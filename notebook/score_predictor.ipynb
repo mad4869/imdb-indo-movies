{
 "cells": [
  {
   "cell_type": "markdown",
   "metadata": {},
   "source": [
    "# IMDB Score Predictor"
   ]
  },
  {
   "cell_type": "markdown",
   "metadata": {},
   "source": [
    "## Load the Dataframe"
   ]
  },
  {
   "cell_type": "code",
   "execution_count": null,
   "metadata": {},
   "outputs": [],
   "source": [
    "import pandas as pd"
   ]
  },
  {
   "cell_type": "code",
   "execution_count": null,
   "metadata": {},
   "outputs": [],
   "source": [
    "movies = pd.read_csv('../data/cleaned/indomovie-data.csv')"
   ]
  },
  {
   "cell_type": "code",
   "execution_count": null,
   "metadata": {},
   "outputs": [],
   "source": [
    "movies.info()"
   ]
  },
  {
   "cell_type": "code",
   "execution_count": null,
   "metadata": {},
   "outputs": [],
   "source": [
    "movies.shape"
   ]
  },
  {
   "cell_type": "markdown",
   "metadata": {},
   "source": [
    "## Drop Unnecessary Columns"
   ]
  },
  {
   "cell_type": "code",
   "execution_count": null,
   "metadata": {},
   "outputs": [],
   "source": [
    "movies.drop(columns=['url', 'title', 'description', 'year', 'imdb_votes', 'metascore', 'gross'], inplace=True)"
   ]
  },
  {
   "cell_type": "markdown",
   "metadata": {},
   "source": [
    "## Remove Movies without IMDB Score"
   ]
  },
  {
   "cell_type": "code",
   "execution_count": null,
   "metadata": {},
   "outputs": [],
   "source": [
    "movies.dropna(subset='imdb_score', inplace=True)"
   ]
  },
  {
   "cell_type": "code",
   "execution_count": null,
   "metadata": {},
   "outputs": [],
   "source": [
    "movies.shape"
   ]
  },
  {
   "cell_type": "code",
   "execution_count": null,
   "metadata": {},
   "outputs": [],
   "source": [
    "movies.info()"
   ]
  },
  {
   "cell_type": "markdown",
   "metadata": {},
   "source": [
    "## Fill Null Values"
   ]
  },
  {
   "cell_type": "code",
   "execution_count": null,
   "metadata": {},
   "outputs": [],
   "source": [
    "filler = {\n",
    "    'director': 'No director',\n",
    "    'stars': 'No actors',\n",
    "    'runtime': 0,\n",
    "    'genre': 'No genre',\n",
    "    'rating': 'No rating',\n",
    "}\n",
    "\n",
    "movies.fillna(value=filler, inplace=True)"
   ]
  },
  {
   "cell_type": "code",
   "execution_count": null,
   "metadata": {},
   "outputs": [],
   "source": [
    "movies.info()"
   ]
  },
  {
   "cell_type": "code",
   "execution_count": null,
   "metadata": {},
   "outputs": [],
   "source": [
    "movies.head()"
   ]
  },
  {
   "cell_type": "markdown",
   "metadata": {},
   "source": [
    "## Convert Runtime Values into Integer"
   ]
  },
  {
   "cell_type": "code",
   "execution_count": null,
   "metadata": {},
   "outputs": [],
   "source": [
    "movies['runtime'] = movies['runtime'].astype('int64')\n",
    "\n",
    "movies.dtypes"
   ]
  },
  {
   "cell_type": "markdown",
   "metadata": {},
   "source": [
    "## Split Columns with Multiple Values"
   ]
  },
  {
   "cell_type": "code",
   "execution_count": null,
   "metadata": {},
   "outputs": [],
   "source": [
    "splitted_rows = []\n",
    "\n",
    "for index, row in movies.iterrows():\n",
    "    directors = row['director'].split(', ')\n",
    "    stars = row['stars'].split(', ')\n",
    "    genres = row['genre'].split(', ')\n",
    "\n",
    "    for director in directors:\n",
    "        for star in stars:\n",
    "            for genre in genres:\n",
    "                splitted_row = {\n",
    "                    'director': director,\n",
    "                    'stars': star,\n",
    "                    'genre': genre,\n",
    "                    'runtime': row['runtime'],\n",
    "                    'rating': row['rating'],\n",
    "                    'imdb_score': row['imdb_score']\n",
    "                }\n",
    "\n",
    "                splitted_rows.append(splitted_row)"
   ]
  },
  {
   "cell_type": "code",
   "execution_count": null,
   "metadata": {},
   "outputs": [],
   "source": [
    "splitted_movies = pd.DataFrame(splitted_rows)\n",
    "\n",
    "splitted_movies.head()"
   ]
  },
  {
   "cell_type": "code",
   "execution_count": null,
   "metadata": {},
   "outputs": [],
   "source": [
    "splitted_movies.info()"
   ]
  },
  {
   "cell_type": "markdown",
   "metadata": {},
   "source": [
    "## Set the Features and the Label"
   ]
  },
  {
   "cell_type": "code",
   "execution_count": null,
   "metadata": {},
   "outputs": [],
   "source": [
    "X = splitted_movies\n",
    "y = X.pop('imdb_score')"
   ]
  },
  {
   "cell_type": "markdown",
   "metadata": {},
   "source": [
    "## Set the Training and Test Dataset"
   ]
  },
  {
   "cell_type": "code",
   "execution_count": null,
   "metadata": {},
   "outputs": [],
   "source": [
    "from sklearn.linear_model import LinearRegression\n",
    "from sklearn.model_selection import train_test_split\n",
    "from sklearn.metrics import mean_squared_error"
   ]
  },
  {
   "cell_type": "code",
   "execution_count": null,
   "metadata": {},
   "outputs": [],
   "source": [
    "X_train, X_test, y_train, y_test = train_test_split(X, y, test_size=0.2, random_state=0)"
   ]
  },
  {
   "cell_type": "markdown",
   "metadata": {},
   "source": [
    "## Transform Columns to become Feature Columns"
   ]
  },
  {
   "cell_type": "code",
   "execution_count": 47,
   "metadata": {},
   "outputs": [],
   "source": [
    "import tensorflow as tf"
   ]
  },
  {
   "cell_type": "code",
   "execution_count": null,
   "metadata": {},
   "outputs": [],
   "source": [
    "# from tensorflow.keras.layers import Input\n",
    "# from tensorflow.keras.layers.experimental.preprocessing import StringLookup, CategoryEncoding, Normalization"
   ]
  },
  {
   "cell_type": "code",
   "execution_count": 48,
   "metadata": {},
   "outputs": [],
   "source": [
    "CATEGORICAL_COLUMNS = [col for col in X_train.columns if col != 'runtime']\n",
    "NUMERICAL_COLUMNS = ['runtime']"
   ]
  },
  {
   "cell_type": "code",
   "execution_count": 49,
   "metadata": {},
   "outputs": [
    {
     "data": {
      "text/plain": [
       "[VocabularyListCategoricalColumn(key='director', vocabulary_list=('Mike Wiluan', 'Alamsyah', 'Ifa Isfansyah', 'Riri Riza', 'Garin Nugroho', 'Hanny Saputra', 'Fajar Bustomi', 'Siti Nurul Anniza', 'Nia Di Nata', 'Awi Suryadi', 'Rizal Mantovani', 'Danial Rifki', 'Hestu Saputra', 'Ackyl Anwari', 'Liliek Sudjio', 'Benni Setiawan', 'Chiska Doppert', 'Jose Poernomo', 'Rako Prijanto', 'Nayato Fio Nuala', 'Roufy Nasution', 'No director', 'Andibachtiar Yusuf', 'Fajar Nugros', 'Muhammad Yusuf', 'Nurman Hakim', 'Pajri Andika', 'Ernest Prakasa', 'Shalahuddin Siregar', 'Wahyu Agung Prasetyo', 'Ismail Basbeth', 'Happy Salma', 'Charles Gozali', 'Sofyan Sharna', 'Joko Anwar', 'Tika Pramesti', 'Andi Fikri', 'Teddy Soeriaatmadja', 'Akil Wasa', 'Kan Lume', 'Indrayanto Kurniawan', 'Sentot Sahid', 'Eddie Cahyono', 'Rahabi Mandra', 'Azhar Kinoi Lubis', 'Pritagita Arianegara', 'Aria Kusumadewa', 'Monty Tiwa', 'Christ Helweldery', 'Bayu Skak', 'Yadi Sugandi', 'Dosy Omar', 'T.B. Silalahi', 'Conor Allyn', 'Teguh Karya', 'Aldo Swastia', 'Livi Zheng', 'Bounty Umbara', 'Achiel Nasrun', 'Nurhadie Irawan', 'Ali Shahab', 'Djenar Maesa Ayu', 'Viva Westi', 'Slamet Rahardjo', 'Maxime Bouttier', 'Somad Sutedja', 'Fajri Hariyuki', 'Paul Agusta', 'Muhadkly Acho', 'Rocky Soraya', 'Ginanti Rona', 'Cassandra Massardi', 'S.A. Karim', 'Chaerul Umam', 'Sisworo Gautama Putra', 'Findo Purwono', 'Asun Mawardi', 'Sekar Ayu Asmara', 'Hanung Bramantyo', 'Robert Chappell', 'Franklin Darmadi', 'Fay Tobing', 'Lucky Kuswandi', 'Ceppy Gober', 'Dian Sasmita Faisal', 'Taylor McNulty', 'Guntur Soeharjanto', 'Yudhistira Bayuadji', 'Iqbal Rais', 'Bobby Moeryawan', 'Kimo Stamboel', 'William Adiguna', 'Asrul Sani', 'Faozan Rizal', 'Norman Benny', 'Olga Lydia', 'Sophan Sophiaan', 'Sarjono Sutrisno', 'Lola Amaria', 'Alam Putra K.W.', 'Adrian Tang', 'Budi Kurniawan', 'Naya Anindita', 'Helfi C.H. Kardit', 'Geri Busye', 'Ai Manaf', 'Erwin Arnada', 'Ivan Bandhito', 'Jeiji Joned', 'Ron Widodo', 'Freddy Lingga', 'Yusron Fuadi', 'Soleh Solihun', 'Angga Dwimas Sasongko', 'Nosa Normanda', 'Putrama Tuta', 'David Worth', 'Asep Kusdinar', 'Agha Fahriansyah', 'Mirwan Suwarso', 'Herman Panca', 'Enison Sinaro', 'Ari Sihasale', 'Imam Tantowi', 'Timo Tjahjanto', 'Irham Acho Bahtiar', 'Heru Sukmadana Surya', 'Anggy Umbara', 'Arizal', 'Deddy Corbuzier', 'Ainun Ridho', 'Jon Galvez', 'Herwin Novianto', 'M. Reza Fahriyansyah', 'David Purnomo', 'Arwin Wardhana', 'Tompi', 'Richard Oh', 'Yosep Anggi Noen', 'Alex Latief', 'Fritz Widjaja', 'Pitradjaya Burnama', 'Usmar Ismail', 'Hasmanan', 'Patsy Asch', \"Bambang 'Ipoenk' K.M.\", 'Wimbadi J.P.', 'Dinna Jasanti', 'Lukman Hakim Nain', 'Svetlana Dea', 'Juan Aldisya', 'Febian Nurrahman Saktinegara', 'Ivander Tedjasukmana', 'Rizki Balki', 'Piyu', 'Vadi Vanadi Buchari', 'Winaldha E. Melalatoa', 'Rhoma Irama', 'Rano Karno', 'Antonius', 'Kenzô Maihara', 'Vicky Ray', 'Ubay Fox', 'Jimmy Atmaja', 'Indra Gunawan', 'Arci Fadillah', 'Dede Yusuf', 'Angling Sagaran', 'Ismail Soebardjo', 'Emil G. Hampp', 'Wiendy Widasari', 'Nico Pelamonia', 'Habiburrahman El Shirazy', 'Imron Ayikayu', 'Gotot Prakosa', 'Kabir Bhatia', 'Ody C. Harahap', 'Raymond Handaya', 'Sridhar Jetty', 'Annisa Meutia', 'Deddy Mizwar', 'Affandi Abdul Rachman', 'John de Rantau', 'Kirana Larasati', 'Arifin C. Noer', 'Robin Moran', 'Jeihan Angga', 'Alam Rengga Surawidjaja', 'Nurul Hasyati', 'Willy Wilianto', 'Hilman Mutasi', 'Herdanius Larobu', 'Hadrah Daeng Ratu', 'Boy Rano', 'Allo Geaffary', 'Didi Riyadi', 'Dyan Sunu Prastowo', 'Farid Dermawan', 'Bill Reeves', 'Lasja Fauzia', 'Rudy Soedjarwo', 'Mouly Surya', 'Bambang Drias', 'Steady Rimba', 'Raditya Dika', 'M. Abnar Romli', 'Aulion', 'Andi Burhamzah', 'Edy Mandala', 'Andreas Sullivan', 'Hideki Oka', 'Edwin', 'Salman Aristo', 'Aris Nugraha', 'Dwi Sujanti Nugraheni', 'Adrianto Sinaga', 'E.G. Bakker', 'Sofia W.D.', 'Nirattisai Kaljareuk', 'Sjuman Djaya', 'Rico Marpaung', 'Bagus Iman', 'B.W. Purba Negara', 'Jay Sukmo', 'Jason Iskandar', 'Sukma Romadhon', 'Sidharta Tata', 'Joshua Oppenheimer', 'Bay Isbahi', 'Patrick Effendy', 'Aco Tenriyagelli', 'Arief Malinmudo', 'Chandra Liow', 'Maman Firmansyah', 'Wregas Bhanuteja', 'Hendrick Jhansen Metemko', 'Bayu Prihantoro Filemon', 'Ferry L.', 'Nara Nugroho', 'Rachmania Arunita', 'Reka Wijaya', 'Dezi Ruwah Rezeki', 'Mardaly Sjarif', 'Adi Garing', 'Hedy Suryawan', 'Brian L. Tan', 'Kiki Nuriswan', 'Nasri Cheppy', 'Adriyanto Dewo', 'Indra Yudhistira', 'Christian Pauli', 'Danu Umbara', 'Eric Satyo', 'Tya Subiakto Satrio', 'Farishad I. Latjuba', 'Krishto D. Alam', 'Rahung Nasution', 'Gareth Evans', 'Ruben Adrian', 'Sabrina Rochelle Kalangie', 'Mizam Fadilah Ananda', 'Kemal Palevi', 'Gope T. Samtani', 'Suroso M.Y.S.', 'Scott Allen Nollen', 'Dimas Djayadiningrat', 'Fritz G. Schadt', 'Eddy Prasetya', 'Denny H.W.', 'Myrna Paramita', 'Upi Avianto', 'Dineshkumar Subashchandra', 'Ruli Nursetia', 'Ardy Octaviand', 'Alim Ishaq', 'Aditya Ahmad', 'Misnan', 'Nanang Istiabudi', 'Alfi Septandhi', 'Heri Kurniawan', 'Eros Djarot', 'Slamet Riyadi', 'Billy Christian', 'Wisjnu Mouradhy', 'Yoyok Subagyo', 'Torro Margens', 'Toto Hoedi', 'H. Tjut Djalil', 'Lance Laggong', 'Wahyu Sihombing', 'Aline Jusria', 'Nurul M. Berry', 'Agung Sentausa', 'Erman', 'Nicholas Yudifar', 'Firman Syah', 'Rama DeRanau', 'Dondy Adrian', 'Dedi Setiadi', 'A. Leung Wong', 'Sandy Suwardi Hasan', 'Dimas Novan Delfiano', 'Eki N.F.', 'Deandrey Putra', 'Irwan Siregar', 'Turino Junaidy', 'Randolph Zaini', 'Andri Cung', 'Sam Firstenberg', 'Djun Saptohadi', 'Arie Achmad Buang', 'Jopi Burnama', 'Karman', 'Ismail Fahmi Lubish', 'Agus Pestol', 'Tino Saroengallo', 'Fender Dickinson', 'Rico M. Bradley', 'Putri Sarah Amelia', 'Pinkan Veronique', 'Lukman Sardi', 'Harry Suharyadi', 'Sunil Soraya', 'Bene Dion Rajagukguk', 'Emil Heradi', 'Ray Nayoan', 'Loeloe Hendra Komara', 'Dwi Ilalang', 'Pidi Baiq', 'Anggun Priambodo', 'Ferry Irwandi', 'Bobby Zarkasih', 'Kuntz Agus', 'Dasri Jacob', 'Arie Azis', 'Akhlis Suryapati', 'Muchlis Raya', 'Kurnaen Suhardiman', 'Nan Triveni Achnas', 'Hendra Sirajuddin', 'Mikhael Alessandro', 'Henry Adianto', 'Faza Meonk', 'Atta Halilintar', 'Robby Ertanto', 'Atok Suharto', 'Yung Indrajaya', 'Sim F.', 'Ami Priyono', 'Harris Nizam', 'Stea Lim', 'Sil Van Der Woerd', 'Andi A. Manoppo', 'Yongki Ongestu', 'Amandha Wyanto', 'Philip Mitchell', 'Robert Ronny', 'Steven Sheil', 'Iksan Lahardi', 'Amanda Iswan', 'Kristian Panca Nugroho', 'Aditya Ingale', 'Gina S. Noer', 'Eka Katili', 'Allan Lunardi', 'Dedy Mercy', 'Orlow Seunke', 'Ilham Nuriadi', 'Rendy Herpy', 'Ratna Sarumpaet', 'Jumiati', 'Anggi Frisca', 'Indra Tirtana', 'Ben Hernandez', 'Tora Sudiro', 'A. Harris', 'Putri Hermansjah', 'Makbul Mubarak', 'Mira Lesmana', 'Azwar An', 'Sinung Winahyoko', 'Giovanni Rustanto', 'Patryk Wezowski', 'Soni Gaokasak', 'X. Jo', 'Anto Airlangga', 'Roy Lolang', 'Azzam Fi Rullah', 'Raditya Sidharta', 'Charles Kaufman', 'Sidi Saleh', 'Pandji Pragiwaksono', 'Khozy Rizal', 'Ravi L. Bharwani', 'Peter Andrikidis', 'Azuzan Juan Gontarella', 'Wicaksono Wisnu Legowo', 'B.Z. Kadaryono', 'Sugeng Wahyudi', 'Ariani Darmawan', 'Wisnu Surya Pratama', 'Sammaria Simanjuntak', 'Wisnu Adi', 'Hadi Poernomo', 'Lee Croudy', 'William Chandra', 'Cathy Sharon', 'Yonky Souhoka', 'Kenny Weken', 'Aryanto Yuniawan', 'Adhe Dharmastriya', 'Teuku Wisnu', 'Rudi Aryanto', 'Zeeman Artaboga', 'Virlanwana Langgong', 'Adink Liwutang', 'Achmad Romie', 'Endri Pelita', 'Reza Rahadian', 'Kamila Andini', 'Thomas Nawilis', 'Nawi Ismail', 'Gunung Nusa Pelita', 'Ratno Timoer', 'Cuk Fk', 'Henky Solaiman', 'Kemal Al Giffari', 'K.K. Dheeraj', 'Wahyu Nugroho', 'Iip Sariful Hanan', 'Abdul Razak', 'Sondang Pratama', 'Sumat Saichur', 'Yosua Rocky', 'Corey Pearson', 'Sally Wongso', 'Yusuf Radjamuda', 'Sigit Pradityo', 'Nya Abbas Akup', 'Muchyar Syamas', 'Katrina Irawati Graham', 'Karsono Hadi', 'Yandy Laurens', 'Randy Korompis', 'Godfrey Ho', 'Nur Jihat Hisyam', 'Nuri Dahlia', 'Ilham Danuega', 'Eugene Panji', 'Aditya Gumay', 'Yan Senjaya', 'Hanny Mustofa', 'Edward Sirait', 'Tumpal Tampubolon', 'Bony Wirasmono', 'Harry Dagoe', 'Verdi Solaiman', 'Wahyuddin Hasani Widodo', 'We We', 'Rayya Makarim', 'Adis Kayl Yurahmah', 'Kasia Wezowski', 'Lakonde', 'Marcella Zalianty', 'Joko Nugroho', 'Girry Pratama', 'Halim Gani Safia Asril Sani', 'Henry Riady', 'A. Rachman', 'Dmaz Brodjonegoro', 'Rolly Subhandani', 'Umay Shahab', 'Worod Suma', 'Winalda E.', 'Edi Siswanto', 'Asad Amar', 'Anto Lupus', 'Muntoha', 'Dedy Syah', 'Fons Rademakers', 'F.X. Purnomo', 'Delon Tio', 'Iqbal Alfajri', 'Susilo S.W.D.', 'Farid Ongky', 'Krisna L. Salya', 'Wim Umboh', 'Bagus Bramanti', 'Zidny Nafian', 'Bobby Sandy', 'Erix Soekamti', 'Guy Norris', 'Mustafa', 'Anar', 'Rere Art2tonic', 'Harvan Agustriansyah', 'Jastis Arimba', 'Segev Gershon', 'Archie Hekagery', 'Daniel Ziv', 'Iman Brotoseno', 'Frank Rorimpandey', 'Widy Wijaya', 'Rachel Maryam', 'Oji Ijo', 'Meira Anastasia', 'Stephen Odang', 'Mimi Jegon', 'Khalid Kashogi', 'Aung', 'Ario Rubbik', 'Ferry Ipey Assad', 'Edward Gunawan', 'Bobby Prasetyo', 'Mannus Franken', 'Christine Cynn', 'Chang-hwa Jeong', 'Percolate Galactic', 'Encep Masduki', 'D. Djajakusuma', 'Meisa Felaroze', 'Yudho Aditya', 'Salvador Simó', 'M.T. Risyaf', 'David Sungkar', 'Rinaldy Puspoyo', 'Tema Patrosza', 'Kumar Pareek', 'Ucik Supra', 'Shyam Ramsay', 'Erwin Budiono', 'Noviandra Santosa', 'Adilla Dimitri', 'Tan Tjoei Hock', 'Stuart Simpson', 'Derby Romero', 'Thaleb Wahjudi', 'Andi Syahwal Mattuju', 'Orizon Astonia', 'Roby Eka', 'Katia Engel', 'Albert Balink', 'Alyandra', 'Jonathan Hagard', 'Sofyan D. Surza', 'Hayati', 'Haryanto Corakh', 'Veit Helmer', 'Agus Makkie', 'Jorik Dozy', 'Ishaq Iskandar', 'Pandu Adjisurya', 'Eman Pradipta', 'Mamahit Luigi Donie', 'Senoaji Julius', 'Bobby Prabowo', 'Shakuntala', 'Muhammad Ihsan Fadli', 'Agus Hermansyah Mawardy', 'David Darmadi', 'Ruli Wanisar', 'Je Yatmoko', 'Rusmin Nuryadin', 'Humar Hadi', 'Yudhistira Bayu', 'Mirza', 'Witra Asliga', 'Lidia Afrilita', 'Hartawan Triguna', 'R. Jiwo Kusumo', 'Herlambang Hashemi', 'Chris Baron', 'Kunun Nugroho', 'Ferdinand Almi', 'Victoria Gunawan', 'Jovial Da Lopez', 'Volkan Maida', 'Eko Nobel', 'Prawoto S. Rahardjo', 'Ida Farida', 'Sonu Samtani', 'G. Krugers', 'Abrar Siregar', 'Dinda Kanyadewi', 'Richard Buntario', 'N. Dilivio Adani', 'Amber Lee Connors', 'Imelda Taurinamandala', 'Andre Surya', 'Acha Septriasa', 'Marsha Timothy', 'Cheverly Amalia', 'Andrew Timothy', 'Agasyah Karim', 'Arie Kriting', 'Tubagus Deddy', 'Aldiansyah Taher', 'Fadly Kurniadi', 'Irwansyah', 'Joel Fadly', 'Indira Iman', 'Tommy Burnama', 'Guntur Novaris', 'Agusti Tanjung', 'Linda Conner', 'Saptadji', 'Alfrits John Robert', 'Rully Manna', 'Fatimah Tobing Rony', 'Kirman', 'Basir', 'Dandhy Dwi Laksono', 'Yannie Sukarya', 'Tyo Pakusadewo', 'Dian Eggie', 'Nana Mulyana', 'Dean Allan Tolhurst', 'Cornelio Sunny', 'Hasto Broto', 'Ook Budiyono', 'Dwi Sasono', 'Dedy Kopola', 'Ismail Sofyan Sani', 'Ronny Mepet', 'Petruska Karangan', 'Indra Birowo', 'Gunawan Paggaru', 'Findo Poernowo', 'Javier Ideami', 'Deni Pusung', 'Kuan Tai Chen', 'Rakha Adhyasta Pradana', 'Hari Suhariyadi', 'Mike De Leon', 'Dian Sastrowardoyo', 'Andra Fembriarto', 'Afank Mariani', 'Nur Hidayat', 'Dede Ferdinand', 'Yulia Dwi Andriyanti', 'Bram Ferino', 'Rein Maychaelson', 'Damien Dematra', 'Steve R.R. Wantania', 'Chairun Nissa', 'Benyamin S.', 'Sean Monteiro', 'Jacky', 'A. Liong Wong', 'Walmer Sitohang', 'M. Haikal', 'Syahrir Arsyad Dini', 'Sasha Friedlander', 'Upie Guava', 'Daeng Harris', 'Roy Patrick Streamer', 'Winnie Wibowo', 'Rachmad Imron', 'Muhammad Hafiz', 'K. Team', 'Ari Rusyadi', 'Ihdar Nur', 'Golden Kasmara', 'Fanny Chotimah', 'Assad M.A.', 'Dirmawan Hatta', 'Pandu Adi Putra', 'Dimas Adi Pratama', 'Kemal Fathur', 'Titien Wattimena', 'Evann Tjokrosetio', 'Eden Junjung', 'Angelika Levi', 'Aryo Danusiri', 'Patrick Rouxel', 'Asaf Kharisma', 'Laura Coppens', 'Yudie Oktav', 'Hafiz Rancajale', 'Keanji Kasyfulwarits', 'Syamsul Fuad', 'Andi Pulung Waluyo', 'Hera Danish', 'Amir Muhammad', 'Riar Rizaldi', 'Adythia Utama', 'Maruli Ara', 'Fira Sofiana', 'Cherd Songsri', 'Cipta Croft-Custworth', 'Mohammad Irfan Ramly', 'Joel Fadli', 'Yogie Supra', 'Awaludin', 'Abdul Kadir', 'Wisnu Kuncoro', 'Otoy Witoyo', 'Andree Sascha', 'Jay Subiakto', 'Kasan Kurdi', 'Bhargava', 'Shôji Kôkami', 'Michel Cayla', 'Moez Moez', 'Timothy Asch', 'Luhki Herwanayogi'), dtype=tf.string, default_value=-1, num_oov_buckets=0),\n",
       " VocabularyListCategoricalColumn(key='stars', vocabulary_list=('Pevita Pearce', 'Jenny Cortez', 'Nicholas Saputra', 'Zulfanny', 'Minus Coneston Karoba', 'Acha Septriasa', 'Risty Tagor', 'Aziman Fadhli', 'El Manik', 'Sandrinna Michelle', 'Amanda Rawles', 'Lola Amaria', 'Ira Wibowo', 'Ferry Salim', 'Murti Sari Dewi', 'Ade Irawan', 'Olivia Lubis Jensen', 'Dallas Pratama', 'Joanna Alexandra', 'Shandy Aulia', 'Adipati Dolken', 'Yova Gracia', 'Hafidz Aulia', 'Angelina Fang', 'Sheila Dara Aisha', 'Zainal Abidin', 'Edo Borne', 'Franki Darmawan', 'Titi Rajo Bintang', 'Muhammad Fiqri', 'Refal Hady', 'Yoga Pratama', 'Brilliana Desy D.', 'Wavi Zihan', 'Shalfia Fala Pratika', 'Fauzi Baadila', 'Adhisty Zara', 'Denira Wiraguna', 'Kiki Amelia', 'Tio Pakusadewo', 'Baskara Mahendra', 'Cynkia Handayani', 'Bastian Steel', 'Maria Agnes', 'Kamil Onte', 'Nicole Rossi', 'Artika Sari Devi', 'Cinta Ramlan', 'Azwir Fitrianto', 'Ciccio Manassero', 'Mariana Renata', 'Juan Bione Subiantoro', 'Rebecca Klopper', 'Maudy Ayunda', 'Marthino Lio', 'Mark Natama', 'Kemal Palevi', 'Nina Zatulini', 'Keke Soeryo', 'Salshabilla Adriani', 'Farah Diana', 'Bayu Skak', 'Lukman Sardi', 'Akhadi Wira Satriaji', 'Revalina S. Temat', 'Atiqah Hasiholan', 'Rima Melati', 'Filda Effendi', 'Dominique Agisca Diyose', 'Boediono', 'Emma Chaibedra', 'Luna Maya', 'Tino Karno', 'Raline Shah', 'Fauziah Ahmad Daud', 'Dorman Borisman', 'Henidar Amroe', 'Agus Suhartono', 'Anna Sinaga', 'Eddy Guci', 'Richard Kyle', 'Framly Daniel', 'Maxime Bouttier', 'Intan Nuraini', 'Febrian Fadli', 'Tuhdil Haqiqi', 'Widyawati', 'Jessica Mila', 'Raihaanun Soeriaatmadja', 'Khoirul Ilyas Aryatmaja', 'Deddy Mahendra Desta', 'Aghniny Haque', 'Cinta Laura Kiehl', 'Edy S. Jonathan', 'Sylvana Herman', 'Donny Damara', 'George Rudy', 'Uli Auliani', 'Ria Irawan', 'Aurélie Moeremans', 'Samuel Zylgwyn', 'Yuki Kato', 'Zaskia Adya Mecca', 'William Bell Sullivan', 'T. Rifnu Wikana', 'Ricky Harun', 'Arie Dagienkz', 'Malfin Shayna', 'Nadia Saphira', 'Joko Anwar', 'Angga Yunanda', 'Muhammad Fardhan', 'Karina Nadila', 'Ali Budimasnyah', 'Kevin Julio', 'Andar Halim', 'Verrell Bramasta', 'Shandy William', 'Tika Putri', 'Hanung Bramantyo', 'Cut Mini Theo', 'Ririn Ekawati', 'Shareefa Daanish', 'Sheryl Sheinafia', 'Farouk Afero', 'Pitradjaya Burnama', 'Rendy Kjaernett', 'Donny Alamsyah', 'Reza Rahadian', 'Tukul Arwana', 'Gitty Srinita', 'Asrul Zulmi', 'Ali Mensan', 'Rangga Nattra', 'Jowy Khoury', 'Arien Rahayu', 'Dwi Sasono', 'Mikha Tambayong', 'Abio Abie', 'Ayushita', 'Thamar Beckx', 'Andre Bablo Fardanish', 'Nadila Ernesta', 'Ajil Ditto', 'Eza Yayang', 'Abimana Aryasatya', 'Fedi Nuril', 'Ira Rai', 'Kayla Kalaoun', 'Herjunot Ali', 'Rangga Azof', 'Ari Irham', 'Tara Basro', 'Yanti Joned', 'Rania Putri Sari', 'Carissa Putri', 'Fransiskus Michael', 'Dinda Kanyadewi', 'Ella Gayo', 'Bryan Domani', 'Eka Nusa Pertiwi', 'Anggika Bolsterli', 'Ardhito Pramono', 'Tia Ivanka', 'Darius Sinathrya', 'Klara Virencia', 'Daniel Mananta', 'Nova Eliza', 'Arumy Bachsin', 'Richard Norton', 'Andri Mashadi', 'Michelle Ziudith', 'Anggur Aulia', 'Fathir Muchtar', 'Abdurrahman Arif', 'Norman R. Akyuwen', 'Madison Evens', 'Surya Saputra', 'Al Ghazali', 'Dimaz Andrean', 'Zoe Abbas Jackson', 'Syamsuri Kaempuan', 'Oka Antara', 'Primawan Luqman Hakim', 'Muhammad Abbe', 'Marissa Nasution', 'Jason Lionel Theo', 'Shenina Cinnamon', 'Deddy Mizwar', 'Arswendy Bening Swara', 'Jajang C. Noer', 'Indra Herlambang', 'Barry Prima', 'M. Amin', 'Sandra Dewi', 'Mohammad Ridwan Hafiedz', 'Ida Royani', 'Adrian Dima', 'Tyas Mirasih', 'Joshua Suherman', 'Karina Ranau', 'Umay Shahab', 'Miko Cakcoy', 'Dana Christina', 'Viona Rosalina', 'Tora Sudiro', 'Sitoresmi Prabuningrat', 'Ronny P. Tjandra', 'Ganindra Bimo', 'Vincent Ryan Rompies', 'Khiva Iskak', 'Ranty Maria', 'Marcell Darwin', 'Julie Estelle', 'Lia Caroline', 'Juni', 'Samuel Rizal', 'Amanda Latief', 'Max Huang', 'Sonny Dewantara', 'Soleh Solihun', 'Caitlin Halderman', 'Nina Amora', 'Darussalam', 'Amanda Manopo', 'Iskak', 'Dian Sastrowardoyo', 'No actors', 'Irish Bella', 'Jefri Nichol', 'Mike Ethan', 'Kinaryosih', 'Dion Wiyoko', 'Junior Liem', 'Yan Bastian', 'Harini Sondakh', 'Christy Mahanani', 'Ardina Rasti', 'Kris Budianto', 'Ence Bagus', 'Arifin Putra', 'Randy Pangalila', 'Hanggini', 'Aries Susanti Rahayu', 'Babe Asmawi', 'Rio Dewanto', 'Jill Harris', 'Ben Joshua', 'Muryati', 'Rhoma Irama', 'Josephine Firmstone', 'Jeff Smith', 'Chelsea Islan', 'Rano Karno', 'Kaesang Pangarep', 'Aldo Tansani', 'Adhitya Alkatiri', 'Putri Ayudya', 'Fandy Christian', 'Boy William', 'Aliando Syarief', 'Ismed M. Noor', 'Melati', 'Rozie Mahally', 'Arya Saloka', 'Faridah', 'Eddie Garcia', 'Gabriella Desta', 'Asmara Abigail', 'Ichsan Akbar', 'Indah Kusuma', 'Ernest Prakasa', 'Kenzo Abduh', 'Stefan William', 'Bukie B. Mansyur', 'Lia Aulia', 'Endy Arfian', 'Chicco Jerikho', 'Sara Wijayanto', 'Nathalie Widyanti', 'Ray Sahetapy', 'Widi Mulia', 'Devi Permatasari', 'Rhani', 'Rizky Nazar', 'Febby Lawrence', 'Rachmat Hidayat', 'Rizky Mocil', 'W.D. Mochtar', 'Dude Harlino', 'Maddy Slinger', 'Aurora Ribero', 'Made Kopi', 'Iwan Fals', 'Ghecca Tavvara', 'Dela Shalshabila', 'Poppy Sovia', 'Vino G. Bastian', 'Febby Rastanty', 'Vanesha Prescilla', 'R.R. Melati Pinaring', 'Andhika Pratama', 'Ammar Zoni', 'Bimbim Slank', 'Audia Shavira', 'Imelda', 'Montserrat Gizelle', 'Aspar Paturusi', 'Eko Noah', 'Rangga Djoned', 'Hiroaki Kato', 'Meriam Bellina', 'Alex Abbad', 'Anwar', 'Yudhi Isman', 'Bobby Alatas', 'David Schaap', 'Aurel Hermansyah', 'Miqdad Addausy', 'Mathias Muchus', 'Putri Marino', 'Ade Nila A.', 'Alex Komang', 'Shindy Huang', 'Baim Wong', 'Devi Ivonne', 'Ziva Magnolya', 'Hana Malasan', 'Harlini Reeves', 'Prilly Latuconsina', 'Ajeng Sardi', 'Billy Chong', 'Kayla Ardianto', 'Farida Pasha', 'Chicco Kurniawan', 'Musripah', 'Donna Harun', 'Dian Aditya', 'Lia Waode', 'Chandra Liow', 'Bachtiar Gomba', 'Nessie Judge', 'Susan Sameh', 'Tatjana Saphira', 'Tutus Thomson', 'Diny Arishandy', 'Adriano Qalbi', 'Dani Marsuni', 'Kim Kurniawan', 'Fakhri Amrullah', 'Eva Celia Latjuba', 'Cahya R. Saputra', 'Ratu Felisha', 'Dewi Perssik', 'Asrul Dahlan', 'Ario Bayu', 'Ringgo Agus Rahman', 'Dwi Andhika', 'Rahayu Effendi', 'Moch. Achir', 'Soendjoto Adibroto', 'Agastya Kandou', 'Yama Carlos', 'Ridwan Remin', 'Oki Setiana Dewi', 'Jerome Kurnia', 'Tia Arifin', 'Jefan Nathanio', 'Guyon Waton', 'Mandra', 'Gareng N.N.', 'Nino Fernandez', 'Marissa Anita', 'Indiati Iskak', 'Ichi Nuraini', 'Reza Nangin', 'Dicky Zulkarnaen', 'Anggun Priambodo', 'Ida Nursanti', 'Nurul Arifin', 'Raditya Dika', 'Nadine Alexandra', 'Brandon Salim', 'Kim Su-ji', 'Ayu Azhari', 'Happy Salma', 'Wahab Abdi', 'Panji Rahadi', 'Rayhan Febrian', 'Tarra Budiman', 'Rayn Wijaya', 'Tika Bravani', 'Torro Margens', 'Zizan Razak', 'Tissa Biani Azzahra', 'Chintami Atmanegara', 'Paramitha Rusady', 'Dimas Anggara', 'Devano Danendra', 'M Dicky Syafii', 'Yoga Mohamad', 'Tonny Hidayat', 'Aisyah Aqilah', 'Zacky Zimah', 'Bobby Agus', 'Farishad I. Latjuba', 'Ajeng Kusumastuti', 'Butet Kertaradjasa', 'Farahdiba Ferreira', 'Sharman Sinaga', 'Kirana Larasati', 'Agung Udijana', 'Farida Feisol', 'Debbie Cinthya Dewi', 'Verdi Solaiman', 'Bambang B.S.', 'Teuku Ryzki', 'Ashira Zamita', 'Stella Cornelia', 'Adinia Wirasti', 'Muzakki Ramdhan', 'Aulion', 'Shanice Margaretha', 'Maudy Effrosina', 'Novita Dewi', 'Alfie Alfandi', 'Hengky Tornando', 'Dea Panendra', 'Robby Sugara', 'Rachel Amanda', 'Bintang Emon', 'Sandrina Azzahra', 'Ernanta Kusuma', 'Unique Priscilla', 'Tommy Limm', 'Permata Sari Harahap', 'Agung Saga', 'David Bayu', 'Nirina Zubir', 'Winky Wiryawan', 'Suzzanna', 'Hardi Fadhillah', 'Sara Fajira', 'Chae In-Woo', 'Rizky Febian', 'Yadi Timo', 'Adinda Thomas', 'Elizabeth Ivone', 'Priscilla Patsy', 'Boy Rano', 'Matthew Settle', 'Rianti Cartwright', 'Kimberly Ryder', 'Christoffer Nelwan', 'Muhadkly Acho', 'Emily Graham', 'Dimas Beck', 'Del Juzar', 'Robby Purba', 'Doddy Sukma', 'Rafael Adwel', 'Adlu Fahrezi', 'Farhan Rasyid', 'Stefhani Zamora Husen', 'Salvita Decorte', 'Aghi Narottama', 'Fero Walandouw', 'Very Tri Yulisman', 'Jonathan Mulia', 'Dayu Wijanto', 'Laudya Cynthia Bella', 'Krissno Bossa', 'Yayu A.W. Unru', 'Memes', 'Kholidi Asadil Alam', 'Julia Perez', 'Lydia Kandou', 'Pamela Bowie', 'Brigitta Cynthia', 'Ussy Sulistiawaty', 'Debo Andryos', 'Elang El Gibran', 'Tanta Ginting', 'Nabilah Ratna Ayu Azalia', 'Irwansyah', 'I Gusti Putu Kirana Dana', 'Iko Uwais', 'Fransisca Saraswati Puspa Dewi', 'Andrew Trigg', 'Sarah Azhari', 'Aksara Dena', 'Marsha Timothy', 'Ririn Dwi Aryanti', 'Jovial Da Lopez', 'Giorgino Abraham', 'Kusno Sudjarwadi', 'Roy Marten', 'Deva Mahenra', 'Omar Daniel', 'Bront Palarae', 'Ardi', 'Rina Hassim', 'Giulio Parengkuan', 'Rangga Raditya', 'Faradina Mufti', 'Pixisye', 'Deddy Sutomo', 'Chairil J.M.', 'Muhamad Yahya Nur Ibrahim', 'Marcel Chandrawinata', 'Natasya Putri Sastrosoemarto', 'Shania Junianatha', 'Rizky Hanggono', 'Anizabella Lesmana', 'Bobby Asmoro', 'Miller Khan', 'Wulan Guritno', 'Dian Nitami', 'Zendhy Zain', 'Cathrine Wilson', 'Lucky Martin', 'Mike Lucock', 'Christine Hakim', 'Brisia Jodie', 'Egy Fedly', 'Eriska Rein', 'Addin Hidayat', 'Indah Permatasari', 'Roselina Lie', 'Syifa Hadju', 'Jihane Almira', 'Prisia Nasution', 'Nissa Sabyan', 'Dea Annisa', 'Jonathan Lesmana', 'Ardi H.S.', 'Isfira Febiana', 'Intan Sinaga', 'Tri Budiman', 'Wafda Saifan Lubis', 'Ghozi Naufalmi Adnan', 'Zoya Amirin', 'Arbani Yasiz', 'Nikita Willy', 'Bill Reeves', 'Ira Mambo', 'Onky Alexander', 'Bella Esperance', 'Michelle Denis Coates', 'Chin-Kun Li', 'Andreano Philip', 'Alam Rengga Surawidjaja', 'Heri Cahyono', 'Tiara Jacquelina', 'Dewi Irawan', 'Lala Karmela', 'Retno Maruti', 'Mao Su', 'Dinda Hauw', 'Denny Chandra', 'Graciella Abigail', 'Eddy Gunawan', 'Marisa Haque', 'Morgan Oey', 'Faras Fatik', 'Agung Basuki', 'Feby Syah', 'Tutie Kirana', 'Hafez Ali', 'Karina Suwandhi', 'Adipura', 'Ayu Ratna', 'Izzah Ajrina', 'Rama DeRanau', 'Marshanda', 'Omara N. Esteghlal', 'Adi Kurdi', 'Yusron Fuadi', 'Shanty Paredes', 'Gading Marten', 'Ki Kusumo', 'Sutan Amanullah', 'Advent Bangun', 'Jenny Rachman', 'Azis Gagap', 'Surawijaya', 'Mongol', 'Pong Harjatmo', 'Ratu Bilqis', 'Dhalia', 'Rayenshah Rassya Hidayah', 'Broery Marantika', 'Cindya Ayu', 'Darto Helm', 'Raihan Prabowo', 'Farell Akbar', 'Sophia Latjuba', 'Toma Pratama', 'Wahyu Rudi Astadi', 'Aida Nurmala', 'Dana Cole', 'River Kanoff', 'Syarief Friant', 'Jennifer Campbell', 'Rukman Herman', 'Ali Albar', 'St. Ardiana Arifin', 'Wieke Widowati', 'Aminah Cendrakasih', 'Nastasha Abigail', 'Amec Aris', 'Dimas Aditya', 'Cok Simbara', 'Annisa Pinandita', 'Astri Nurdin', 'Dendy Subangil', 'Estelle Linden', 'Hendrik Betta', 'Abdur Arsyad', 'Naura Ayu', 'Fariz Alfarazi', 'Jörg Mattutat', 'Nico Hernawan', 'Adilla Fitri', 'Bonita', 'Alifa Lubis', 'Iwuk Tamam', 'Rahayu Saraswati', 'Sitha Soerjo', 'Jared Ali', 'Juan Azmi', 'Emir Mahira', 'Guh S Mana', 'Vanessha Laureen', 'Freddy Rotterdam', 'Dimas Seto', 'Eva Arnaz', 'Afgansyah Reza', 'Junior Roberts', 'Mila Rosinta Totoatmojo', 'Rendy Ahmad', 'Natalie Zenn', 'Sarah Treleaven', 'Rin Takanashi', 'Lutesha', 'Citra Kirana', 'H. Jojon', 'Iqbaal Dhiafakhri Ramadhan', 'Erly Ashy', 'Maudy Wilhelmina', 'Dosma Hazenbosch', 'Aaron Ashab', 'Sally Marcellina', 'Hesti Purwadinata', 'Anita Mukaromah', 'Nadine Chandrawinata', 'Sabai Morscheck', 'Natasha Wilona', 'Yohannes Simon Sanggor', 'Deddy Mudjito', 'Panji Saputra', 'Craig Gavin', 'Cornelio Sunny', 'Dany Beler', 'Alexa Key', 'Albert Fakdawer', 'Nafiza Fatia Rani', 'Yasmin Napper', 'Ayusita Destiana', 'Daniel Immanuel Octavianus', 'Sivia Azizah', 'Agus Kuncoro', 'Sofia Amang', 'Amel Alvie', 'Sigi Wimala', 'Edward Akbar', 'Siu-Lung Leung', 'Indra Birowo', 'Bucek Depp', 'Fransisca', 'Fadli Fuad', 'Billy Davidson', 'Heru', 'Tina Juhara', 'Kemas Fauzan', 'Slamet Rahardjo', 'Ridwan Ghany', 'Roger Danuarta', 'Sjuman Djaya', 'Ricky Hosada', 'Cody Mcclendon', 'Fildza Burhan', 'Malika Sandhuoxf', 'Fikri Baladraf', 'Meuthia Kasim', 'Andrea Dian', 'Cut Syahra', 'Fadly', 'Hardy Hartono', 'Nike Ardilla', 'Kevin Ardilova', 'Amelia Natasha', 'Bunga Citra Lestari', 'Babe Cabita', 'Gritte Agatha', 'Della Dartyan', 'Tika Panggabean', 'Sendy Febrina', 'Indra Brasco', 'Afdhal Yusman', 'A.N. Alcaff', 'Shofia Shireen', 'Mira Asmara', 'Aedy Moward', 'Melody Nurramdhani Laksani', 'Ariel Prakasa', 'Ami Priyono', 'Syaiful M.', 'Samuel Oluoko', 'Deven Christiandi', 'Karina Salim', 'Niken Anjani', 'Rachel Maryam Sayidina', 'Kuan Tai Chen', 'Arya Vasco', 'Cut Keke', 'Denny Sumargo', 'Peggy Melati', 'Ucy Nurul', 'Maizura', 'Robert Syarif', 'Fico Fachriza', 'Franda', 'Oxcerila Paryana', 'Gilang Dirgahari', 'Fahrani', 'Mamat Alkatiri', 'Wan Afok', 'Hamid Arief', 'Windy Chindyana', 'Sifa Nur Hasanah', 'Golden Kasmara', 'Fauzan Smith', 'Pandji Pragiwaksono', 'Andi Arsyil Rahman', 'Bintang Satria', 'Nita Ferlina', 'Taffana Dewi', 'Volland humonggio', 'Jason Chan', 'H.I.M. Damsyik', 'Yoshi Sudarso', 'Anya Geraldine', 'Derby Romero', 'Cut Meyriska', 'Nena Rosier', 'Gabriel Prince', 'Didier A. Hamel', 'Laura Theux', 'Bryant Santoso', 'Les Loveday', 'Kiki Narendra', 'Ibra Azhari', 'Fachry Albar', 'Simon Cader', 'Leylarey Lesesne', 'Baby Huwae', 'Beng Ito', \"Afifah Ifah'nda\", 'Imaz Fitria', 'Ernie Djohan', 'Barry F. Cheln', 'Christopher J. Hart', 'Richard Kevin', 'Renata Kusmanto', 'Dhea Ananda', 'Adrian Zandri', 'Kaluram Dhobale', 'Hana Saraswati', 'Jolene Marie', 'Yulinar Arief', 'Zulfa Maharani', 'Teresa Handawi', 'Boy Hamzah', 'Chairil A. Dalimunthe', 'Yusuf Abdul Jamil', 'Livy Renata', 'Yoshep Hungan', 'Hana Prinantina', 'Erick Estrada', 'Emil Kusumo', 'Ully Triani', 'Andrew Roxburgh', 'Amin Ansari D.', 'Anis Sabyan', 'Revaldo', 'Nadya Arina', 'Linda Djatmika', 'Adjis Doaibu', 'Celine Evangelista', 'Laura Basuki', 'Soraya Rasyid', 'Marissa Jeffryna', 'Wong Aksan', 'Oppie Andaresta', 'Felicya Angellista', 'Annette Edoarda', 'Hannah Al Rashid', 'Vindex Tengker', 'Maria Sabta', 'Sofia W.D.', 'Haru Sandra', 'Giring Ganesha', 'Yusra Ps', 'Donita', 'Mahrival Surya Manggala', 'Ruth Pelupessi', 'Boy Tirayoh', 'Arsita Iswardhani', 'Clinton Callahan', 'Lia Warokka', 'Megan Domani', 'Sekar Sari', 'William Tjokro', 'Chantiq Schagerl', 'Ayu Andhika', 'Mawar Eva de Jongh', 'Brad Bowyer', 'Joe Taslim', 'Bobby Zarkasih', 'Andre Giovano', 'Venna Violita', 'Joshua Pandelaki', 'Wiwid Gunawan', 'Dono Warkop', 'Sulis', 'Frans Tumbuan', 'Ineke Valentina', 'Ge Pamungkas', 'Tike P.', 'Elma Theana', 'Miller', 'Ranieta Manopo', 'Abiyyu Barakbah', 'Atdriansyah Arishmunandar', 'Atta Halilintar', 'Reynaldi', 'Adam Jordan', 'Yenny Farida', 'Claudia Jessie', 'Brilliana Arfira', 'Eddie Karsito', 'David Bradley', 'Argo Aa Jimmy', 'Desy Ratnasari', 'Fanny Fabriana', 'Ryan Hidayat', 'Cecep Arif Rahman', 'Desta Club 80s', 'Irmawati', 'Yono Daryono', 'Dewi Kirana', 'Arzendra Arzendra', 'Bima Sena', 'Sani Oktania', 'Bhisma Mulia', 'Reymond Knuliq', 'Tri Yudiman', 'Anindya Putri', 'Susilo Badar', 'Maria Nadia', 'Shalvynne', 'Maria Parkis', 'Deddy Corbuzier', 'Sandy Suwardi Hasan', 'Alexa', 'Angga Dwisaputra', 'Fath Bayyinah', 'Kartika Putri', 'Indro Warkop', 'Narto Bantul', 'Ananta Rizky', 'Ratno Timoer', 'Kenny Austin', 'Olga Syahputra', 'Kasino Warkop', 'Egi John Foreisythe', 'Bima Azriel', 'Muhammad Fendy Riyadi', 'Erick Changcut', 'Özge Özpirinçci', 'Maudy Koesnaedi', 'Michael Jakarimilena', 'Clara Bernadeth', 'Rukman Rosadi', 'Greg Stuart', 'Panca Jaka Fajar', 'Fitra Hartono', 'Big Dicky', 'Rasini', 'Tasya Kamila', 'Frank Amado', 'Marlon Dance-Hooi', 'Kukuh Prasetya', 'Joice Erna', 'Kurniawan Dwi Yulianto', 'Adjie Nur Ahmad', 'Claudia Angelique Rademaker', 'Inong Nidya Ayu', 'Marcell Domits', 'Bunga Zainal', 'Keisya Levronka', 'Chairil Anwar', 'Ayu Dyah Pasha', 'Raja Giannuca', 'Andi Jagger', 'Titi Dwijayati', 'Andhika Gumilang', 'Kin Wah Chew', 'Anastasia Amelia', 'Tj Ruth', 'Michael Peres', 'Boy Idrus', 'Ronald Kansil', 'Ingrid Amado', 'Anastasya Octaviana', 'Dadeng Herang', 'Jaja Mihardja', 'Fitria Rasyidi', 'Calvin Jeremy', 'Jarwo Kwat', 'Edward Gunawan', 'Maya Norman', 'Sunny Pang', 'Yoga Arizona', 'Sherina Munaf', 'Tina Astari', 'Ade Dora', 'Vera Lasut', 'Rachel Griffiths', 'Erlando', 'Raya Adena Syah', 'Farah Meuthia', 'Joseph J.U. Taylor', 'Zara Leola', 'Adjie Massaid', 'Hayria Faturrahman', 'Frank Zagarino', 'Johan Morgan Purba', 'Agnez Mo', 'Aurra Kharishma', 'Syafira Haddad', 'Christ Laurent', 'Cynthiara Alona', 'Yatti Octavia', 'Harry Capri', 'Iedil Dzuhrie Alaudin', 'Ade Harun', 'Dhimas Danang', 'Inong', 'Delon', 'Davina Veronica', 'Yoriko Angeline', 'Ruth Marini', 'Anneke Jodi', 'Masayu Anastasia', 'Andrea Andjaringtyas Adhi', 'Epy Kusnandar', 'Diana Dewi', 'Landung Simatupang', 'Tengku Tezi', 'Peter Ramwa', 'Bintang Panglima', 'Anthony Xie', 'Andryan Bima', \"Paul O'Brien\", 'Page Foster', 'Asri Welas', 'Chindy Anggrina', 'Kiwil', 'Hamish Daud', 'Alqusyairi Radjamuda', 'Rengga Takengon', 'Bram Adrianto', 'Aisha Nurra Datau', 'Adi Nugroho', 'Stuart Collin', 'Djenar Maesa Ayu', 'Sabrina Athika', 'Achmad Albar', 'Mandala Abadi Shoji', 'Nanik Wenten', 'Indah Indriana', 'Chiu Yen Irina Tan', 'Ayub Darjam', 'Deriell Jaqueline', 'Faza Meonk', 'Nugie', 'Ladya Cheryl', 'David Chalik', 'Abun Sungkar', 'Ida Leman', 'Mpok Atiek', 'Rezky Adhitya', 'Niniek L. Karim', 'M. Pandji Anom', 'Sorapong Chatree', 'Angel D. Memah', 'Kunto Aji', 'Clay Gribble', 'Bryancini Galgala', 'Sujiwo Tejo', 'Alex Dirjosaputro', 'Bambang Irawan', 'Inneke Koesherawati', 'Irzan Faiq', 'Natasya Rahmawati', 'Raffi Ahmad', 'Stacey Gelb', 'Dolly Martin', 'Yesaya Abraham', 'Djati Kusuma', 'Dharty Manulang', 'Nasar Annuz', 'Alisia Rininta', 'Enny Beatrice', 'Indra Bekti', 'Arya Mohan', 'Kevin Anggara', 'Billy Drago', 'Mang Osa', 'Bambang Hermanto', 'Nikita Mirzani', 'M. Alief Amalfie', 'Wina Elvina', 'Yos Santo', 'Justin Adiwinata', 'Ida Iasha', 'Gisella Anastasia', 'T. Kemaisyah', 'Teguh Leo', 'Ade Firman Hakim', 'Tabah Penemuan', 'Rizal Idrus', 'Handoko Hendroyono', 'Dhana Gadree', \"De'ratu\", 'Ozzy Dian', 'Irfan Penyok', 'Jeremy Thomas', 'Alexandra Gottardo', 'Dannia Salsabila', 'Cornelia Agatha', 'Gema Cita Andika', 'Frederika Cull', 'Dikky Takiyudin', 'Nina Kozok', 'Nithalie Louisza', 'Fransoa', 'Marsha Aruan', 'Carmela van der Kruk', 'Fenita Arie', 'Onadio Leonardo', 'Ferly Putra', 'Violla Georgie', 'Annisa Hertami', 'Ully Artha', 'Andi Soraya', 'Elvy Sukaesih', 'Andra Junaidi', 'Andovi Da Lopez', 'Cassandra Lee', 'Leily Sagita', 'Jack Canfield', 'Asmirandah', 'Rahma Landy', 'Rey Bong', 'Jourdy Pranata', 'Rama Dwita', 'Amanda Rigby', 'Sean Keenan', 'Dewi Sandra', 'Imelda Therinne', 'Mohammad Romli', 'Didi Petet', 'Jordi Onsu', 'Tsania Marwa', 'Shinta Kartika Dewi', 'Arawinda Kirana', 'Vonny Anggraini', 'Shara Aryo', 'Emiliano Fernando Cortizo', 'Ibrahim Ibnu', 'Enditha Bonacelli', 'Muni Cader', 'Kriss Hatta', 'Monej Cruz', 'Andy Jufri', 'Johny Indo', 'Ayudhia Bing Slamet', 'Ciara Nadine Brosnan', 'Sandy Pradana', 'Muhammad Ismail', 'Gwen Zamora', 'Runny Rudiyanti', 'Keke Harun', 'Anissa Aziza', 'Novie Piw', 'Lulu Tobing', 'Fahmi Aditya', 'Beby Tsabina', 'Mas Cemen', 'Marini', 'Idjah Bomber', 'Masaji Wijayanto', 'Ashari', 'Keagan Kang', 'Cornel Nadeak', 'Julian Jacob', 'Hilman Hariwijaya', \"Ytonk Club 80's\", 'Nurnaningsih', 'Dizet Atshilla', 'Tuty Kusnendar', 'Rani Soraya', 'Christy Saura Noela Unu', 'Peter Faber', 'Saphira Indah', 'Andien Aisyah', 'Dewa Dayana', 'Arya Sweta', 'Ibrahim Risyad', 'Sunny Soon', 'Otig Pakis', 'Chris Noth', 'Christian Loho', 'Rahmet Ababil', 'Agnes Naomi', 'Alda Changcut', 'Ervan Naro', 'Endhita', 'Otto Djauhari', 'Nurul Izzah Anwar', 'Caitlin North Lewis', 'Angela Gilsha', 'Aulia Sarah', 'Santosa Amin', 'Ariyo Wahab', 'Bianca Hello', 'Rezki Fadlun', 'Ela Garo', 'Maria Ozawa', 'Putri Ariani', 'Marazuddin Budianto Harahap', 'Karlina Inawati', 'Sonya Pandarmawan', 'Gibran Marten', 'Madonna Marrey', 'Alicia Djohar', 'Lenny Marlina', 'Garneta Haruni', 'Ferry Irawan', 'Yessa Lona', 'Uus', 'Andre Julian', 'Amelia Vindy', 'Jordi Armando', 'Christian Sugiono', 'Pang Bathoro', 'Joseph P. McGlynn', 'Rabzki Muzy', 'Kiara Mckenna', 'Boris Bokir', 'Cathy Natafitria Fakandi', 'Zack Lee', 'Sheila Marcia', 'Wahid Sanggakaruma', 'Jennifer Eve', 'Keanu Campora', 'Shaheer Sheikh', 'Kevin Bzezovski', 'Doris Callebaute', 'Fatih Unru', 'A. Thesar Resandy', 'Ivan Kurniawan Arifin', 'Septian Dwi Cahyo', 'Elina Joerg', 'Adhin Abdul Hakim', 'Francine Roosenda', 'Ikranagara', 'Andhika', 'Agus Muljono', 'Alice Norin', 'Moti Lugassi', 'Panji Zoni', 'Cantika Abigail', 'Diandra Agatha', 'Randy Nidji', 'Yatti Surachman', 'Aci Resti', 'Gilang Dirga', 'Henry Boboy', 'Nadine Emmanuela', 'Novika Siregar', 'Uwie Jasmine', 'Surip Mawardi', 'Rifky Balweel', 'Livi Zheng', 'Nani Vidia', 'Karsiman Gada', 'Susi Adella', 'Agatha Pricilla', 'Anggie', 'Stefanny Marcelina Sugiharto', 'Mickey Rourke', 'Jo Pratta', 'Sahira Anjani', 'Roy Sungkono', 'Mike Lewis', 'Judika Sihotang', 'Shanty', 'Ronald Hunter', 'Natalius Chendana', 'Annisa Rawles', 'Endang Sukeksi', 'Nanu Warkop', 'Nadira Maharani', 'Gandhi Fernando', 'Pache Pachenko', 'Ira Maya Sopha', 'Tosan Wiryawan', 'Christian Audi', 'Kayun', 'Very Handayani', 'Ali Fikry', 'Qibil Changcut', 'Fandi', 'Tania Ayu Siregar', 'Sukarno M. Noor', 'Graceilla Angelica', 'Bagong Kussudiardjo', 'Enno Lerian', 'Ajun Perwira', 'Anodya Shula Neona Ayu', 'Emilia Contessa', 'Zubir Mustaqim', 'Rina Diana', 'Taskya Namya', 'Iyang Darmawan', 'Doenaesih', 'Ida Kusumah', 'Lia Ladysta', 'Nungki Kusumastuti', 'August Melasz', 'Margarita', 'Aming Sugandhi', 'Gege Elisa', 'Benyamin S.', 'Gunawan Maryanto', 'Nirwan Dewanto', 'Narpati Arwangga', 'Farah Debby', 'Arizkia Afrilio Amarulloh', 'Naysila Mirdad', 'Adjie Pangestu', 'W.S. Rendra', 'Cole Gribble', 'Lana Nitibaskara', 'Fun-Ti Ai', 'Erma Zarina', 'Ryan Delon', 'Herman Bennink', 'Unit Satuan Bengkel', 'Ahmad Affandy', 'Clairine Clay', 'Christy Jusung', 'Hasnul Rahmat', 'Agla Artalidia', 'Cinta Brian', 'Givina Lukita', 'Teuku Rasya', 'Sora Aoi', 'Aden Bajaj', 'Gladhys Elliona Syahutari', 'Devin Putra', 'Okka Pratama', 'Anggie Amanda', 'Yuyun Yuningsih Nollen', 'Sahrul Gunawan', 'Rara Nawangsih', \"John O'Hare\", 'Cherly Yuliana Anggraini', 'Yudha Keling', 'Gito Gilas', 'Agus Wibowo', 'Hendra Cipta', 'Entis Sutisna', 'Jerry Intveld', 'Karen Sukarno', 'Yunda', 'Anis Chan', 'Edward Fernandez', 'Muhammad Umar', 'Ibnu Jamil', 'Aditya Herpavi', 'Hanny Ray', 'Ibrahim Kadir', 'Olivia Louise', 'Rinrin Marinka', 'Raquel Katie Larkin', 'Angie Ang', 'Nina Anwar', 'Dimas Argoebie', 'Sebryan Yosvien', 'Deni Christantra', 'Abey Ghifran', 'Joned Suryatmoko', 'Pretty Asmara', 'Maria Theodore', 'Adilla Dimitri', 'Rahman Yacob', 'Rocky Jeff', 'Jelita Callebaut', 'Ahmad Dhani', 'Elly Ermawati', 'Emmi Lemmu', 'Cindy Nirmala', 'Nelydia Senrose', 'Wouter Braaf', 'Anantya Rezky', 'Kevin Johnson Ginting', 'Henky Solaiman', 'Lidia Andriani', 'Olga Lydia', 'Farish Nahdi', 'Richard Roxburgh', 'Tuty S.', 'Stevie Domminique Jollie', 'Dede Yusuf', 'Minati Atmanegara', 'Nicky Tirta', 'Arnol Aner Asmuruf', 'Benny Damsjik', 'Mang Diman', 'Febby Febiola', 'Taha Tolu', 'Nasya Marcella', 'Bissu', 'Soenaryo Banyu Biru', 'Mark Adams', 'Ikang Fawzi', 'Kevin Zufri', 'Gusty Pratama', 'José Rizal Manua', 'Michelle Wanda', 'Edbert Destiny', 'Angga Dwimas Sasongko', 'Atika Fauziyyah', 'Aqila Nathaya', 'Rendy Septino', 'Illa Doth', 'Fergie Brittany', 'Novalina Nasution', 'Primus Yustisio', 'Wang Hui Qian', 'Griffit Patricia', 'Tanasya Noer', 'Alessia Cestaro', 'Rieke Diah Pitaloka', 'Daniel Topan', 'Amit Abidin', 'Naimma Aljufri', 'Angie Yulia', 'Petrus Mahendra', 'Candil', 'Tara Antler', 'Aradhana Rahadi', 'Adrian Mulya', 'Amna Hasanah Shahab', 'Chris Laurent', 'Otis Pamutih', 'Gary Harrison', 'Siti Fauziah', 'Rezca Syam', 'Scott Allen Nollen', 'M. Budhrasa', 'Melissa Karim', 'Fauzan Pradana Linggih', 'Yuliandre Darwis', 'Ramli Ivar', 'Keanu Sumawinata', 'Gita Novalista', 'Ivan Seventeen', 'Gusti Rayhan', 'Iqbal S. Manurung', 'Maria Gorethi Megarita', 'Sinyo Riza', 'Novia Kolopaking', 'Lolox', 'David Saragih', 'Taslim Idrus', 'Kevin Kambey', 'Erastiany Asikin', 'Novi Gawatini', 'Sharon Sahertian', 'Hengky Kurniawan Chova', 'Daswara', 'Baron Hermanto', 'Fannita Posumah', 'Ucok Harahap', 'Maruli Tampubolon', 'Aura Kasih', 'Sarah Jane', 'Jian Batari', 'Hananda Hutami', 'Johny Gudel', 'Arie Kriting', 'Andrew Barret', 'Rommy Ravalzi', 'Mehdi Amrullah', 'Shiddiq Kamidi', 'Saira Jihan', 'Raja Ema', 'Nadhira Suryadi', 'Amoroso Katamsi', 'Andi Bersama', 'Kelly Jones', 'Monica Sayangbati', 'Ikhsan Samiaji', 'Aylena Fusil', 'Dirly Idol', 'Yadi Sembako', 'Indah Kirana', 'Cassin Abbas', 'Marcella Zalianty', \"Peter O'Brian\", 'Lela Anggraini', 'Angel Sianturi', 'Mentari De Marelle', 'Sheryl Drisanna Kuntadi', 'Rheina Maryana', 'Ramzi', 'Melky Bajaj', 'Kaharudin Syah', 'Debby Ayu', 'Luky Idrus', 'M. Marzuki', 'Ismi Melinda', 'Nagra Kautsar Pakusadewo', 'Martinus Miroto', 'Chloe Xaviera', 'Ceria Hade', 'Syailendra Soepomo', 'Aditya Firmansyah', 'Angelina Punyk', 'Veroland', 'Dipa Changcut', 'Kenny Mayang Sari', 'Deden Dower', 'Udjie Tongky', 'Kaka Azraff', 'Tities Saputra', 'Hadijah Shahab', 'Monique Henry', 'Enny Haryono', 'Yudi Miftahudin', 'Nasrul', 'Vira Respaty', 'Ony Serojawati Hafiedz', 'Lionil Hendrik', 'Johari Zain', 'Widuri Sasono', 'Jeremy Christian', 'Andi Muhammad Fadli', 'Dian Ariestya', 'Rini S. Bono', 'Dara Warganegara', 'Adrianto Sinaga', 'Komalasari', 'Kafin Sulthan', 'Rana Audi Marissa', 'Tarida Gloria', 'Ivan Oktavian', 'Thea Novita', 'Kim Yeon-Koung', 'Tyo Pakusadewo', 'Ressa Rere', 'Aldo Banar', 'Baskoro Adi Wuryanto', 'Julia Alexandra', 'Vena Annisa', 'Tommy Kurniawan', 'Jeje Soekarno', 'Achmad Megantara', 'Ricky Cuaca', 'Qois Al-Haqqi', 'Brilian Rexy Sondakh', 'Raihan Khan', 'Nazar Amir', 'Ajeng', 'YB', 'Jenny Ho', 'Benny G. Raharja', 'Amy Weber', 'Dimas Fadli', 'Yayan Ruhian', 'Evan Marvino', 'Sofyan D. Surza', 'Fanny Fadillah', 'Joseph Cassano', 'Reuben E. Hadju', 'Sari Nila', 'Boneng', 'Shakira Jasmine', 'Ganda Marpaung', 'Alex Kembar', 'Piet Pagau', 'Restu Sinaga', 'Ersya Aurelia', 'Reza Pahlevi', 'Adam Xavier', 'Aditya Zoni', 'Thya Ariestya', 'Malin Maradjo', 'Herlambang Hashemi', 'Taylor McNulty', 'Udeh Nans', 'Bianca Adinegoro', 'Zenia Zein', 'M. Fauzan', 'Nia Ramadhani', 'Dedi Darmadi', 'Wilhelmina Seo Enok', 'Amanda Faried', 'Raditya Evandra', 'Alwi A.S.', 'Ernest Samudera', 'Michella Putri', 'Siska Widowati', 'Mamiek Prakoso', 'Sakurta H. Ginting', 'Syukri', 'Shanice Avriel', 'Kellan Lutz', 'Ferdy Taher', 'Rara Azis', 'Dzakwan', 'Anjasmara', 'Safira Ratu Sofya', 'Siva Aprilia', 'Clarice Cutie', 'Baim', 'Rifky Sulaeman', 'Rani Agustina', 'Yasamin Jasem', 'Marlo Ernesto', 'Rd. Mochtar', 'Raim Laode', 'Qory Sandioriva', 'Dylan Carr', 'Nagita Slavina', 'Danella Ilene Kurniawan', 'Askan', 'Adam Farrel', 'Hadian Saputra', 'Joe Sims', 'Anne J. Cotto', 'Ponco Sutiyem', 'Radith', 'Ian Bahtiar', 'Elmayana Sabrenia', 'F.X. Bambang', 'Sarah Sechan', 'Tara Ellena', 'Yunjuan Li', 'Harun Syarif', 'Cynthia Rothrock', 'Michal Yannai', 'Sisca Jessica', 'Deivy Nasution', 'Bagoes Kresnawan', 'Ardit Erwandha', 'Haico Van Der Veken', 'Titi Kamal', 'Temmy Rahadi', 'Iwa K.', 'Vera Prifatamasari', 'Sissy Priscillia', 'Putri Titian', 'Roegaya', 'Paloma Kasia', 'Jonas Rivanno', 'Aditya', 'Zainnuddin M.Z.', 'Coni Anggie', 'Pierre Gruno', 'Vida Sylvia Pasaribu', 'Lucky Hakim', 'Kila Putri Alam', 'Alfian Phang', 'Fendy Riyadi', 'Whulandary Herman', 'Hermann Josis Mokalu', 'Yana Diana', 'Ady Sky', 'Rianto', 'Chitra Dewi', 'Akbar Longdong', 'Angel Lelga', 'Eddy M.', 'Oemar', 'Chris Michael', 'Chaca Rasidy Ariefiansyah', 'Putri Dalilati', 'Mo Sidik', 'Melanie Ariyanto', 'Nadia Mulya', 'Flores Cantika Timoer', 'Janna Soekasah Joesoef', 'Wulan Kalea', 'Herfiza Novianti', 'Maria Selena', 'Fachri Ali', 'Dicky Chandra', 'Ledjar Subroto', 'Allan Dastan', 'Sekar Ayu Asmara', 'Aldy Rialdy', 'Ryana Dea', 'Irgi Fahrezi', 'Farida Ciptadi', 'Anggi Nasution', 'Natha Narita', 'R.D. Ismail', 'Dul Jaelani', 'Reggy Lawalata', 'Fachrul Rozy', 'Enzy Storia', 'Intarti', 'William Alvin', 'Dono Pradana', 'Maruli Sitompul', 'Wawan Wanisar', 'Abyann', 'Vincent Rompies', 'Melanie Subono', 'Opie Kumis', 'Pria Bombom', 'Velove Vexia', 'Rudy Corenz', 'Marcio Sebsam', 'Ridho Hafiedz', 'Alex Bernard', 'Dira Sugandi', 'Indah Nic', 'Said Effendy', 'Denaya Bintang Azmi', 'Nora', 'Ariel Tatum', 'Aries Budiman', 'Moudyzanya', 'Heidy Trisiana Triswan', 'Rosy Fribuana', 'Gudi Sintara', 'Tarzan', 'Evan Sanders', 'Arthur Tobing', 'Klarysa Aurelia', 'Emmanuel Akwafo', 'Naufal Samudra Weichert', 'The Sacred Riana', 'Gita Gutawa', 'Jessica Iskandar', 'Tan Tjeng Bok', 'Kieran Sidhu', 'Azwar An', 'Arviansyah Julio Amarulloh', 'Dinna Olivia', 'Gugun Gondrong', 'Duway', 'Brooklyn Alif Rea', 'Dida Airlangga', 'Antonio Blanco Jr.', 'M. Adhiyat', 'Natasha Rizki', 'Richelle Georgette Skornicki', 'Ayu Ting Ting', 'Mongol Stres', 'Emma Maembong', 'Aida Kurniadi', 'Nafa Urbach', 'Vonny Cornellya', 'Dennis Adhiswara', 'Hafizh Weda', 'Fia Anisa', 'Permadi Sh', 'David John Schaap', 'Badrian Noviansyah', 'Pras Mulya', 'Idea Pasha', 'Indah Kalalo', 'Anggi Edison', 'Rendy Bragi', 'Maryam Supraba', 'Enny Christina', 'Faozan Rizal', 'Fanny Ghassani', 'Asma Nadia', 'Topan Dicky', 'Aga Dirgantara', 'Yunita Sarah Boom', 'Gino Makasutji', 'Ria Yunita', 'Phongsiree Bunluewong', 'Loekman Hakim', 'Joanita Chatarine', 'Ahmad Tarmimi Serigar', 'Atikah Suhaime', 'Glenca Chysara', 'Jenny Zhang', 'Riza Syah', 'Rinrin Candraresmi', 'Almizan Aryanto', 'Aty Cancer', 'Sofia Adios', 'Mathias Agus', 'Octavianus Rysiat Muabuay', 'Alya Rohali', 'Gary M. Iskak', 'Daffy Ariaga', 'Nayla D. Purnama', 'Johann Mardjono', 'Rudy Salam', 'Delia Husein', 'Sha Ine Febriyanti', 'Jill Gladys', 'Joshua Matulessy', 'Edy', 'Yessy Gusman', 'Wafda Shalannandia', 'Levie Hardigan', 'Victor Soares', 'Ateng', 'Baharuddin Haji Omar', 'Ponco Buwono', 'Ryan Syehan', 'Nano Asmorodono', 'Difa Ryansyah', 'Eddy Wardy', 'Btari Chinta', 'Ren Hanami', 'Augie Fantinus', 'R. Chaeruli', 'Aldiansyah Taher', 'Ivan Gunawan', 'Kusye', 'Yusril Ihza Mahendra', 'Alba Fuad', 'Marcellino Lafrand', 'Damiana Widowati', 'Rikas Harsa', 'Kiki Fatmala', 'Vita Fatimah', 'Valerie Abby', 'Aghista Cynthia', 'Saipul Jamil', 'Ryan Adriandhy', 'Mien Brodjo', 'Sam Brodie', 'Aquene Aziz Djorghi', 'Chindy Karomah', 'Ferdi Ali', 'Flavio Zaviera', 'Aimee Saras', 'Eko Budi Antara', 'Wanda Hamidah', 'Farid Kamil', 'Maia Estianty', 'Agatha Chelsea', 'Badri', 'Fendy Chow', 'Ratna Riantiarno', 'Angga Asyafriena', 'Harris Illano', 'Rama Michael', 'Mads Koudal', 'Ashli Mohammad', 'Ayus Sabyan', 'Miki Mizuno', 'Diah Cempaka Sari', 'Bayu Lisang', 'Harry de Fretes', 'Tisna S. Brata', 'Yurike Prastica', 'Endhita Wibisono', 'Lina Marpaung', 'Joe Richard', 'Tirta Mandira', 'Jo Sung Bum', 'Johan Saimima', 'Paul Agusta', 'Fujiyanti', 'Fritz Frederich', 'Daud Radex', 'Ayu Diana', 'Rini Mentari', 'Lawrence Blair', 'Sjaeful Anwar', 'Ruben Onsu', 'Putri Moruk', 'Nopek Novian', 'Arnold Leonard', 'Widika Darsih Sidmore', 'Irina Björklund', 'Amara Sophie', 'Denok N.N.', 'Saykoji', \"Lil'li Latisha\", 'Mang Udel', 'Kris Biantoro', 'Ucok Baba', 'Judith Hill', 'Jovvana', 'Harry Panca', 'Melvin Giovanie', 'Shaheila Nafissa', 'Joshua', 'Indra Massad Effendy', 'Degan Septoadji', 'Nashwa Zahira', 'Faruq Bagay', 'Zumi Zola', 'Banon Gautama', 'Annisa Bahar', 'Amber Lee Connors', 'Ibob Tarigan', 'Bryan Andrew', 'Vira Jiansa Abidin', 'Ikhsan Himawan', 'Kezia Aletheia', 'Gladys Angelie', 'Yuni Arso', 'Amak Baldjun', 'Bryan Warow', 'Cemal Faruk', 'Diaz Ardiawan', 'Bedu', 'Clement', 'Adinda Azani', 'Meyda Sefira', 'Sitha Marino', 'Heri Savalas', 'Sado Toringulu', 'Rendy Herpy', 'Laura Abbas Jackson', 'Rudy Wowor', 'Winda Amanta', 'Jennifer Coppen', 'Jonathan Alden', 'Diding Boneng', 'Anneth Delliecia', 'Meity Josefina', 'Ikbal Azhari', 'Matthew Holmes', 'Zuly Chudori', 'Rheno Poetiray', 'Dian Sidik', 'David Jhon', 'Ozzol Ramdan', 'Naomi Paulinda', 'M. Muhlas', 'Mangara Siahaan', 'Abu', 'Valentino Peter', 'Hilyani', 'Daniel Arizona', 'Abidzar Al Ghifari', 'Cewek Cina', 'John Dykes', 'Bunga Jelitha', 'Ferry Gustian', 'Dyah Mulani', 'Adrian Maulana', 'Dave Alexandre', 'Youstine Rais', 'Rijanto', 'Frieza Porizka', 'Muh. Zoel Ikram', 'Canti Tachril', 'Tribintang Praptiwi', 'Thalita Latief', 'Daffa Ulil Abshar', 'Noor Azizah', 'Yongki Dp', 'Fendi Trihartanto', 'Farida Arriany', 'Masroom Bara', 'Alfian', 'Ananda George', 'Rena Tabitha', 'Givina Lukitadewi', 'Suti Karno', 'Cut Ashifa', 'Robin Shou', 'Kadir', 'Glenn Alinskie', 'Jessy Milianty', 'Annisa Trihapsari', 'Valerie Thomas', 'Sadha Triyudha', 'Etick Gantira', 'Bill Wallace', 'Jourast Jourdy', 'Wahu Yuyu', 'Miea Kusuma', 'Arief Didu', 'Praz Teguh', 'Baron Ahmadi', 'Steven Craig', 'Ibrahim Asyhari', 'Asep', 'Bagas Dwi Rizqi Hidayat', 'Octav Kriwil', 'Irene Justine', 'Soultan Saladin', 'Erika Carlina', 'Priya Bapat', 'Chandra Z. Airlangga', 'Bella Graceva', 'Hsiung Chao', 'Claudya Putri', 'Dzulfiqar Abduljabbar', 'Hemant Dhome', 'Tifany Jane', 'Joshua Otay', 'Maria Oentoe', 'Donny Kusuma', 'Wan Afox', 'Alleyra Fakhira', 'Robin Moran', 'Aep Bancet', 'Us Us', 'Mahalini Raharja', 'Ario Astungkoro', 'Sunarti Rendra', 'Mario Irwinsyah', 'Sudardi', 'Jenny Chang', 'Kamidia Radisti', 'Pangeran Lantang', 'Andryanto', 'Pucil Nataart', 'Akbar', 'Gogot Suryanto', 'Ingrid Widjanarko', 'Fiona Fachry', 'Tubagus Ali', 'Enny Kusrini', 'Andre Hehanusa', 'Tuty Wasiat', 'Tatang Gepeng', 'Reuben Elishama', 'Izabel Yahya', 'Yohanes Budyambara', 'Siti Anizah', 'Ella Bergen', 'Ditha Ainun', 'Gaston Castano', 'Zahwa Aqilah', 'Arif Fadhilla', 'Syifa Aura Azahra', 'Adhitya Putri', 'David Kurnia Albert', 'Anna Tairas', 'Satrio Satya Purnama', 'Ananda Omesh', 'Dwi Tasya', 'Ferdinandius', 'Pupung Harris', 'Hannan Adnin', 'Leony Vitria Hartanti', 'Aline Manza', 'Nano Riantiarno', 'Dino Barton', 'Oliver Harold', 'Ayu Lestari', 'Ratu Anandita', 'Sandy Nayoan', 'Samantha Barbara', 'T.M. Aming', 'Lina Budiarty', 'Urip Arpan', 'Bowie Budianto', 'Joo Woo Jae', 'Aydhida Chayzia', 'Tanty Noriesta', 'Asha Kenyeri Bermudez', 'Kenzo Defras', 'Philip Jusuf', 'Afrizal Anoda', 'Malino Djunaedy', 'Tesa Mariska', 'Tatyana Akman', 'Zsazsa Utari', 'Lian Firman', 'Misnahati', 'Rahma Azhari', 'Adelia Rasya', 'Ayu Laksmi', 'Margareth Angelina', 'Connie Sutedja', 'Mentari', 'Yuliana Fitri', 'Chris Barnes', 'Yayik Artikandi', 'Sam Hazeldine', 'Hudri', 'Walter Moeremans', 'Kazuki Kitamura', 'Kris Firdaus', 'Alif Joerg', 'Dwi Surya', 'Ferdy Element', 'Stephanie Pascalia', 'Randu Arini', 'Sheilla Nastassia', 'Valia Rahma', 'Aridh Tritama', 'Alex Abad', 'Trisna Anggraini', 'Igo Ilham', 'Rizky M. Pramonanda', 'Nicho Bryant', 'Chris Salam', 'Ria Ricis', 'Samuel Panjaitan', 'Karenina Anderson', 'Alvaro Maldini Siregar', 'Menzano', 'Ayana Shahab', 'Keith Foo', 'Hans de Kraker', 'Syifa ega Ismanda', 'Endang Sunaini', 'Helen', 'Ratu Dhenok', 'A. Khalik Noor Nasution', 'Marcella Lumowa', 'Pasha', 'Jeffrey Lee', 'Dimas Juju', 'Aysha Razaana Ocean Fajar', 'Halisa Naura', 'Anita Anjani', 'Immanuel Caesar Hito', 'Melanie Sadono', 'Opi Bachtiar', 'Rey Mbayang', 'Caesar Gunawan', 'Hamas Syahid', 'Paul Hay', 'Richard Esl', 'Yudi Ahmad Tajudin', 'Ashraf Sinclair', 'Widi Dwinanda', 'Saifullah Yusuf', 'Juna Rorimpandey', 'Dodit Mulyanto', 'Adrina Puteri Syarira', 'Callista Argentina', 'Fadly Faisal', 'Ferry Irwandi', 'Takahiro Saito', 'Benediktus Angga', 'Fujianti Utami', 'Irshadi Bagas', 'Diaz Astiza', 'Marsha Bayu Andika Pusung', 'Varissa Camelia', 'Enditha', 'Lucky Perdana', 'Ronald Gustav', 'Shahar Roth', 'Titania Desanta', 'Mario Lawalatta', 'Bang Tigor', 'Dewi', 'Dharma Harun Al-Rashid', 'Anisa Rahma', 'Sandy Taroreh', 'Safa Prasodjo', 'Bari Bintang', 'Jamie Aditya', 'Shinta Bachir', 'Munggaran', 'K. Supranto', \"Jae'im\", 'Verdy Bhawanta', 'Imam Nahrawi', 'Rossa', 'Afrida Nurul', 'Azri Iskandar', 'Karmela', 'Sarah Shafitri', 'Puteri Salbiah', 'Thomi Baraqbah', 'Ita Agusta', 'Izzi Isman', 'Zidni Adam Zawas', 'Imam Shah', 'Moh Mochtar', 'Muhammad Iqbal', 'Sita Nursanti', 'Ruslan Basrie', 'R. Adi Bagus', 'Five Vi', 'Aliyah Faizah', 'Billy Syahputra', 'Jodi Lyn Brockton', 'Teuku Zacky Azwar', 'Indira Handawi', 'Arla Ailani', 'Jerry Yass', 'Reynavenzka', 'Chika Jessica', 'Sahat Gultom', 'Widi Atmoko', 'Axel Matthew Thomas', 'Reza Chandika', 'Tegar Satrya', 'Julianti', 'Tumpal Tampubolon', 'Atiyah Shahab', 'Venna Melinda', 'Usman Effendy', 'Dipta Diwangkara', 'Tya Arifin', 'Syahriar Tato', 'Jasi Michelle Tumbel', 'Vivi Sofa', 'Dewi Rosaria Indah', 'Boim', 'Maisha Kanna', 'Lolita Putri', 'Sayed Muhammad', 'Tua Atut', 'Nurul Hasyati', 'Chandra', 'Thomas Nawilis', 'Huwaida Ahmad', 'Agus Mediarta', 'Jeffery Richards', 'Ali Syakieb', 'Fadika Royandi', 'Derry Drajat', 'Mario Irwiensyah', 'Soekarno M. Noer', 'Ingrid M.P. Kansil', 'Suzee Pai', 'Kho Michael', 'Soes D.A.', 'Theodorus Agustinus', 'Haydar Salishz', 'Sazha Carissa', 'Mustafa', 'Anah', 'D. Syamrizal Ardiwinata', 'Edy Oglek', 'Angel Karamoy', 'Komeng', 'Natalie Indirasvari', 'Ozy Syahputra', 'Ayu Gurnitha', 'Herman Sikumbang', 'Oki Maulana', 'Tania Ngesta', 'Husin Lubis', 'Karel Susanteo', 'Ki Joko Bodo', 'Dicky Suprapto', 'Fendy Pradana', 'Sintya Marisca', 'Shapira Indah', 'Mikel Junius', 'Anjani Dina', 'Delano Daniel', 'T. Effendy', 'Masnun', 'André Peter Emric', 'Dini Aminarti', 'Revi Mariska', 'Septatiana Effendi', 'Misa Campo', 'Ivone Rose', 'Christopher Mitchum', 'Ruly Lubis', 'Damar Anggarawati', 'Saktia Oktapyani', 'Mansjur Sjah', 'Nurfadhillah', 'Ersa Mayori', 'Rizky Adrianto', 'Benjamin S.', 'Titi Dibyo', 'Mudy Taylor', 'Saleh Ali', 'Tonya Lawson', 'Farisah', 'Maeeva Amin', 'Niffy Boyask', 'Nadya Almira', 'Fortunella', 'Ratu Annisaa Suryasumirat', 'Rendy Khrisna', 'Galeb Husein', 'Roy Patrick Streamer', 'Daniella Jahzara Tumiwa', 'Marcell Anthony', 'Opick', 'Didik Mangkuprojo', 'Mey Chan', 'Curtis Arnott', 'Ryaas Randa', 'Fred Neust', 'Riman Jayadi', 'Jasmine Nadya', 'Marwan Alkatiri', 'Deddy Damhudi', 'Chand Kelvin', 'Bob Seven', 'Syarifa Zifa', 'Eko Supriyanto', 'Hafis Alzohaifi', 'Jehan Sienna', 'Djudjuk Djuariah', 'Rehan', 'Anggun', 'Agni P. Arkadewi', 'Fachri Azhari', 'Ardani', 'Fikha Effendi', 'Edgar Nasution', 'Mieke Wijaya', 'Zaitun', 'Arman Dewarti', 'Rizky Teo', 'Sayef Muhammad Billah', 'Ramon Y. Tungka', 'Ivanka Suwandi', 'Aty Fathiyah', 'Eduward Manalu', 'Makayla Rose Hilli', 'Maya Septha', 'Anya Syari Nabila', 'Rayssa Dynta', 'Muhammad Fikri Alif', 'Farah Hatim', 'Tria Changcut', 'Nadira Sungkar', 'Shawn Adrian Khulafa', 'Reo Ramadhan', 'Diah Permatasari', 'Ivan Zay', 'Astrid Roos', 'Hisham Abdalla', 'Farah Maudina', 'Dhanny Dahlan', 'Yogi Finanda', 'Arina Ephipania', 'Wizzy Williana', 'Ivy Batuta', 'Azmi', 'Dimas Gabra', 'Candy Satrio', 'Yusril Fahriza', 'Dianita Safitri', 'Mischa Chandrawinata', 'Rizky Billar', 'Frans Nicholas', 'Edwin Lerrick', 'Denny Caknan', 'Patrick Muldoon', 'Tasa Rudman', 'Sarwendah Tan', 'Balqis Carolien', 'Arman Effendy', 'Vikri Septiawan', \"Teuku As'Sadiq\", 'Nabila Zavira', 'Cheverly Amalia', 'Eza Gionino', 'Kaminah', 'Adzwa Aurelline', 'Tamara Bleszynski', 'Celine Wahyudi', 'Alyssa Soebandono', 'Sonia Alyssa', 'Wolly Sutinah', 'Eung Joo Kim', 'Carlo Genta', 'Monica Oemardi', 'Asmuni', 'Adinda Divia', 'Ernest Syarif', 'Haviza Devi Anjani', 'Migi Parahita', 'Yan Asmi', 'Anwar Fuady', 'Guntur Triyoga', 'Ibnu Widodo', 'Karina Meita', 'Ismu Tanjung', 'Abrar Adrian', 'Irwan Palengcahu', 'Ical Kate', 'Djaitov Tigor', 'Bisma Karisma', 'Mia Miniarti', 'Aco Susilo', 'Joshia Frederico', 'Indra Lesmana', 'Vinessa Inez', 'Citra Scholastika', 'Billy As', 'Rosa Winenggar', 'Ilona Agathe Bastian', 'Muhammad Fachroni', 'Marlia Hardi', 'Annisa Aurelia', 'Mike Abbott', 'Marcell Siahaan', 'Paula Verhoeven', 'H. Kosim Betawi', 'Raihan Ahmad Ramdhani', 'Astrid Tiar', 'Emiko Minami', 'Nyoman Ayu Lenora', 'Agnes Natasya Tjie', 'M. Dinu Imansyah', 'Irsyadillah', 'Febriyanie Ferdzilla', 'Stefanie Hariadi', 'Rizky Guntur', 'Kaditha Ayu', 'Syahra Larez', 'Parto Patrio', 'Bintang Timur', 'Sentot Gempur', 'Dahlia Poland', 'Dias Astiza', 'Sogi Indra Dhuaja', 'Dinar', 'Anton Indracaya', 'Irfan Govinda', 'Roro Fitria', 'Rowiena Umboh', 'Herichan', 'Dahlia Lynn', 'Panji Rafenda Putra', 'Rheza Adidarma', 'Muhammad Dimas Fadli Djamhuri', 'Gillie Beanz', 'Drh Ganda', 'Monique Amado', 'Tuti I. Malaon', 'Abduh Mursid', 'Putri Arifanti', 'Tata Dado', 'Vitta Mariana Barrazza', 'Arafah Rianti', 'Sisca Magdalena', 'Robert Ginty', 'Sam J. Jones', 'Naziful Fuad', 'Fifi Buntaran', 'Reska Tania Apriadi', 'Neneng Wulandari', 'Kartika Jahja', 'Jack John', 'Icha Anisa', 'S. Bono', 'Slamet Ambari', 'Davina Karamoy', 'Mars', 'Vivian Idris', 'Angelica Simperler', 'Mukhlis Gumilang', 'Irfan Setiadi', 'Indira Ayu Maharani', 'Ayu Yohana', 'Adam Bagas', 'Kedung Darma R.', 'Iyut Bing Slamet', 'Mayang Naomi', 'Juari Sanjaya', 'Meidian Maladi', 'Ardy Rinaldy', 'Erdin Werdrayana', 'Fatio Yosando', 'Lieh Lo', 'Yû Akiyama', 'Kamal Hossein', 'Rifqa Amalsyita', 'Ewing H.D.', 'Ambo Nai', 'I Wayan Koster', 'Hifzane Bob', 'Anastasia Herzigova', 'Erwin Bagindo', 'Gudino Suares', 'Michael James Olindo', 'Kesso', 'Yudhi As', 'Aliff Alli', 'Raisa', 'Tasya Djerly Emor', 'Pinkan Mambo', 'Shofie Aliyah', 'Nadira Octova', 'Iqbal Perdana', 'Resti Praditaningtyas', 'Furry Setya Raharja', 'Nadia Alexandria', 'Nuansa Jawadwipa', 'Cut Syifa', 'Bran Vargas', 'Anto Wijaya', 'Zaskia Gotik', 'Sheina Abdat', 'Steve Emmanuel', 'Aman Zakirah', 'Sailesh Sharma', 'Andri Novianto', 'Nurul Huda', 'Donna Visca', 'Irmayani Keykenko', 'Kelly Tandiono', 'Gilbert Marciano', 'Meiditha Badawijaya', 'Denny Weller', 'John Honeyben', 'Bolot', 'Venilia Agi K.', 'Jamaludin Latief', 'Maura Gabrielle', 'Mario Maulana', 'Susan Bachtiar', 'Sri Redjeki', 'Clift Sangra', 'Yudas Itlay', 'Mohammad Kautsar Hikmat', 'Sharon Jessica', 'Kyle Hebert', 'Atiq Rachman', 'Adam Radja', 'Fuad Idris', 'Jovarel Callum', 'Bertrand Antolin', 'Rusli', 'Volland Volt', 'Mega Carefansa', 'Didet Joned', 'Edric Chan', 'Krisna Patra', 'Irvan Hakim', 'Haykal', 'Clarine Baharrizki', 'Shinta Puteri', 'Isa Bajaj', 'Muhammad Rizkie Sahlian', 'Siti Sulaeha', 'Yedihel Luntungan', 'Sofyan Sharna', 'Gus Norma', 'Rionaldo Stockhorst', 'Tantri Syalindri Ichlasari', 'Natassa Lengkong', 'Park Eun-jin', 'Fadli', 'Ratih Dardo', 'Sigit Pradityo', 'Mat Solar', 'Ben Kasyafani', 'Poppy Bunga', 'Soraya Larasati', 'Cathy Sharon', 'Seteng Sadja', 'Yunita Siregar', 'Giselle Tambunan', 'Mieke Amalia', 'Eko D.J.', 'Ajeng Ade Chandra', 'Elena Lubis', 'Paul Reynolds', 'Ferry Ardiansyah', 'Rico Verald', 'Melly Goeslaw', 'Jason Ranti', 'Balawan', 'Jessyca Stefani Auryn', 'Shita Destya', 'Rustam Anwar', 'Michael Wai-Man Chan', 'Susy Bolle', 'Christopher Aaron', 'Phipit Mursidah', 'Pritt Prodjosoemantri', 'Abitha Karenza', 'Muhammad Khildan Habibie', 'Harry Izwan', 'Vebby Palwinta', 'Kardjo Ac-Dc', 'Fajar Nugra', \"Erik van 't Wout\", 'Noen Stanislaus Yoga', 'Jabrik Gelanggang', 'Niken Ayu', 'M. Ihsan Tarore', 'Vicky Monica', 'Gemilang Sinatrya', 'Robby Tumewu', 'Ilsyah Reza', 'Gesata Stella', 'Filio', 'Tompoh Salvatore', 'Aji Santosa', 'Becky', 'Jimmy Poluszek', 'Kamal Sabyan', 'Nadine Ames', 'Amel Carla', 'Choky Andriano', 'Gabriella Veronica Arian', 'Yusuf Mahardika', 'Jill Carissa', 'Hafidz Khoir', 'Eddy Chaniago', 'Sheila Majid', 'Atut Agustinanto', 'Violenzia Jeanette', 'Arie Dwi Andhika', 'Keinaya Messi Gusti', 'Awang Darmawan', 'Roy Kiyoshi', 'Jordan Omar', 'Norman Kamaru', 'Panji Dharma', 'Sugesta Handayani', 'Ratna Paquita', 'Maximus Itlay', 'Mutiara Sani', 'Zidane Khalid', 'Fifi Young', 'Ibnu Sandy Alam', 'Leilani Hermiasih', 'Dondy Bappedyanto', 'Andre Dimas Apri', 'Marsha Milan Londoh', 'Leah Steele', 'Gariz Luiz', 'Bambang S. Jayantoro', 'Ronal Surapradja', 'Timur Angin', 'Tegar Widyalaksono', 'Martin Kove', 'Willem Nijholt', 'Robby Hart', 'Jaden Ocean', 'Salim Alkatiri', 'Aditya Utama', 'Alif Rivelino', 'Eko', 'Echie Dwi Asih', 'Iyuth Pakpahan', 'Richard Chang', 'Andra', 'Ranty Purnamasari', 'Adang Mansyur', 'Iman Jimbot', 'Denny Cagur', 'Sandra', 'Cameria Happy Pramita', 'Dewi Rezer', 'Cahwati Sugiarto', 'Camelia Malik', 'Jeffry Waworuntu', 'Krisdayanti', 'Teuku Zacky', 'Nani Widjaja', 'Dira', 'Pipi Agusta', 'Harris Illano Vriza', 'Rendra Bagus Pamungkas', 'Rachel Hersas', 'Nyoman Wenten', 'Joseph Cotham', 'Rasheedz Ali', 'Hadad Alwi', 'Jeffrey Sirie', 'Richie Ricardo', 'Cornelis Gae', 'Yafi Tesa Zahara', 'Irving Artemas', 'Christopher V. Warren', 'Kiky Saputri', 'Edric Tjandra', 'Pepeng Naif', 'Lyodra Ginting', 'Gempita Adrian', 'Angie Virgin', 'Evan Loss', 'Titiek Puspa', 'Rafi Cinoun', 'Citra Prima', 'Simon P.S.', 'Noumira Sjahril', 'Yanda Djaitov', 'Laura Bells', 'Rako Prijanto', 'Hans Larson', 'Ki Daus', 'Eric Febrian', 'Angga Riyadi', 'Firman', 'Dian Pratama', 'Gede Robi', 'Sacha Bulthuis', 'Michelle Joan', 'Endah Laras', 'Richa Novisha', 'Adendu Soesilaningrat', 'Riri', 'Denny Porlen', 'Surry', 'Smitha Anjani', 'Petrus Beyleto', 'Baby Margaretha', 'Ade Surya Akbar', 'Daud Sumolang', 'Devi Alwan Halim', 'Hana Hanifah', 'Bing Slamet', 'Selvi Kitty', 'Rany Ramadhani', 'Mrunmayee Deshpande', 'Damar Rizal', 'Tiara Andini', 'Petrick Rumlaklak', 'Dyah Arum Retnowati', 'Linda Lolita Hoesin', 'Calvin', 'Margaretha Sene', 'Cindy Celine', 'Fitri Ayu', 'Zoe Levana', 'Jodi', 'Iva Novanda', 'Yusuf Ozkan', 'Natasha Ratulangi', 'Ravi Bhatia', 'Robin Panjaitan', 'Fikri Ramdhan', 'Alex Suhendra', 'Teddy Purba', 'Golam Sarwar Harun', 'Siti Helda Meilita', 'Tata Sivek', 'Tanty Josepha', 'Harry Gedhe', 'Ferry Fernandez', 'Payak Ramnate', 'Cindy Lee Duck', 'Manop Aswathep', 'Carissa Perusset', 'Neslihan Atilla', 'Ephy Sekuriti', 'Alyssa Daguise', 'Mira Ayudhia', 'Astri Ivo', 'Reza Anugrah', 'Fairly', 'Kelly Brook', 'Kelly Kalyubi', 'Ari Sihasale', 'Astri Kusuma Wardani', 'Novita Savitri', 'Anna Shirley', 'Ghozali', 'Andi Awwe Wijaya', 'Arifin', 'Umar Syarif', 'Regina Rengganis', 'Hotalili', 'Chandra Lois', 'Syaiful Akbar', 'Wawan Bakwan', 'Bastomi', 'Julian Liberty', 'Vriska Adelia', 'Eddy Gombloh', 'Jasmine Elfira', 'Cayuz Canisius Paru', 'Firman Subagja', 'Ali Seggaf', 'Elko Kastanya', 'Annisa Hasim', 'Satria', 'Piet Ermas', 'Sheylla Gonçalves', 'Putty Noor', 'Lia Chandra', 'Dinda Mahira', 'Rachel Patricia', 'Teuku Wisnu', 'Ega Calvina', 'Abdqori Afandi', 'Nandya Nadhalia', 'Sylvia Fully', 'Krisna Eka Putranto', 'Lutvi Wicaksono', 'Bokir', 'Dedi Moch Jamasari', 'Imel Putri Cahyati', 'Maria Eva', 'Sheila Tohir', 'Asty Ananta', 'Yasmine Wildblood', 'Annisa Hertami Kusumastuti', 'Bagus Suitrawan', 'Amalia Hadi', 'B.Z. Kadaryono', 'Riko Prayitno', 'Hisyam Hamsir', 'Wiwie Bakar', 'Iswar Kelana', 'Geraldine Sianturi', 'Maya Hasan', 'Ranggani Puspandya', 'Faradilla Yoshi', 'Ubaidillah', 'Elyzia Mulachela', 'Debby Astuti', 'Banyu Bening', 'Rahmat Kartolo', 'Shireen Sungkar', 'Windi Agustina', 'Najib Hergantara', 'Xprayoga', 'Mamak Ramlah', 'Wicaksono Wisnu Legowo', 'Uki Marzuki', 'Nadya Amanda', 'Jaham', 'Windy Apsari', 'Malida Dinda', 'Ochi Rosdiana', 'Jesika Danies', 'Nycta Gina', 'Arlita Renggiana', 'Udjo', 'Hamzah Bustami', 'Gita Prisilfia', 'Hendra Abidin', 'Tania Grace', 'Ocke Mulyawan R.', 'Rial Firdhana', 'Meccalino Adjie', 'Edi Brokoli', 'Hefri Olifian', 'Lam Ting', 'Emri Margono', 'Vikri Rahmat', 'Maurice Novoa', 'Grace Savior Innochintya Lesbasa', 'Marrio Merdhithia', 'Raya Kitty', 'Lania Fira', 'Pritt Timothy', 'Ruhut Sitompul', 'Valentino', 'Rico Ceper', 'Syukri Algazali', 'Nunu Datau', 'Boyke Dian Nugraha', 'Rahmah Ketiara', 'Natasha Gott', 'Rendra Karno', \"Ghea D'Syawal\", 'Gesya Shandy', 'Nanang Durachman', 'M. Awal Purbani', 'Teguh Yulianto', 'Shalom Razade', 'Daffa Wardhana', 'Akinza Kiyosaki', 'Nano Romanza', 'Kimi Jayanti', 'Hendro Tangkilisan', 'Aulia Deas', 'Yeos Astawan', 'Rae Sita', 'Agni Pratistha', 'Rika Callebaut', 'Hasan Faruq Ali', 'Ghita Bhebhita', 'Pipie Adjie', 'Ancoe Amar', 'Reog Bkak', 'Ben Sihombing', 'Bogel Apriansyah', 'David Bleszynski', 'Andhara Early', 'Lahardo', 'Dara', 'Melanie Putria', 'Marcellino', 'Akhdiyat Duta Modjo', 'Girindra Kara', 'Rezky Aditya', 'Tyara Vanesha', 'Andri Sulistiandri', 'Fadi Alaydrus', 'Ati Kanser Zein', 'Doyok', 'Angelica Kosasih', 'Kartika Ayuningtyas', 'Aditya Suryo', 'Kartika Indah Jaya', 'Afiqah', 'Rudy Wahab', 'Ellya Khadam', 'Naufan Raid Azka', 'J.S. Khairen', 'Ayub Abdul Djalal', 'Direz', 'Arie K. Untung', 'M. Aldifi Tegarajasa', 'Imelda Lubis', 'Deni', 'Arfan Afif', 'Pradikta Wicaksono', 'Rin Sakuragi', 'Adi Marsono', 'Oubrey Aulia', 'Syarmi Amanda', 'Hendrik Bhibir', 'Muh Taufik Achmad', 'Johny Anwar', 'Yuniza Icha', 'Lisa H. Pandansari', 'Etienne Caesar', 'Shirley Malinton', 'Dara Rizki Ruhiana', 'Leo Kristi', 'Artis Jepang', 'Adul', 'Eustaqio Axel', 'Varun Tandjung', 'Amori de Purivicacao', 'Furry Citra', 'Khadijah Banderas', 'Christina Santika', 'Hanalei Swan', 'Ferry Iskandar', 'Syahrini', 'Sahil Shah', \"Fauzan Ja'far\", 'Prabu Revolusi', 'Uwie Balfas', 'Fendy Pratama', 'Yosep Anggi Noen', 'Ayu Pratiwi', 'Sonia Alexa', 'Ferrasta', 'Caroline Elodie', 'Imelda Soraya', 'Wiwiek Handawiyah', 'Fattah Syach', 'Suzuki Nobuyuki', 'Rizky Alatas', 'Willem Bevers', 'Raden Roro Nissa Pressinawangi', 'Aqilla Herby', 'Wicky Husein', 'Jupiter Fortissimo', 'Laramputi Radjamuda', 'Anuradha', 'Dicky Lebrianto', 'Yunita David', 'Sarah Carter', 'Steyer Djapai', 'Ariati', 'Alyssa Abidin', 'Fay Nabila Rizka', 'Ivana Mosses', 'Thaly Titi Kasih', 'Nada Rahmah', 'Hengky Hidayat', 'Jacob McCarthy', 'Rachel Florencia', 'Rita Zahara', 'Jojon', 'Iqbal Zuhda Irsyad', 'Vandoor', 'Bulan Ayu', 'Gugun Benget', 'Nadia Vella', 'Lidya Larengkeng', 'Nurfadilah Hanifah', 'Okkie Callerista', 'Gabriella Quinlyn', 'Indri Yanuarti', 'Callista Arum', 'Vera Magdalena', 'Gatot Brajamusti', 'K.M. Bey Erri', 'Albert Halim', 'Fenita', 'Nalan Olcayalp', 'John Iskandar', 'Hendro Djarot', 'Noor Kumalasari', 'Deswita Maharani', 'Jane Catherine', 'Masayu Clara', 'Rintho Aribowo', 'Vicky Notonegoro', 'Heather Storm', 'Wendy Armoko', 'Putri Patricia', 'Helmy Jagar', 'Wani Siregar', 'Susanna Caecilia', 'Muhammad Ridwan', 'Meyke Vierna', 'Athie Al Gazam', 'Fajar Umbara', 'Waty Anggraini', 'Charlie Sahetapy', 'Arturo G.P.', 'Efritha Berliana', 'Ammy Tawaqal', 'Sabri Sahafuddin', 'Ridwan Kamil', 'Memory Hidayat', 'Rafathar Malik Ahmad', 'Dewi Wulandari Cahyaningr', 'Arathi', 'Nabila Syakieb', 'Joe Project P.', 'Daffy', 'Frengky Ardian Batubara', 'Thessa Kaunang', 'Gracia Indri', 'Leroy Osmani', 'Ikram Noer', 'Hikmal Abrar Nasution', 'Yosie Kristanto', 'Melayu Nicole', 'Ary Kirana', 'Damien Perez', 'Sardono W. Kusumo', 'Jonny Iskandar', 'Esa Septian Pramudha Sigit', 'Neneng Alina', 'Anies Baswedan', 'Ade', 'Elmayana Sabriena', 'Tomy Babap', 'Betari Ayu', 'Christopher', 'Firrina', \"Ba'i Soemarlono\", 'Satriyo Hanindhito', 'Barbara Anne Constable', 'Ari Wibowo', 'Aditya Rino', 'Budi Doremi', 'Tom Berlin', 'Nyungsang Bungo', 'Adrian Oktomayora Tambunan', 'Martoana', 'Emmy Husein', 'Savira Crith', 'Aryadi Jaya', 'Sri Harto', 'Yassien Omar', 'PS Jati', 'Cahyono', 'Firza', 'Dwi Akraniza A.', 'Ecky Lamoh', 'Ratu Annisa', 'Nenny Triana', 'Riskyana Hidayat', 'Hassan Sanusi', 'Rebecca Reijman', 'Basmalah Gralind', 'Damita Argobie', 'Andy Carol', 'Salim Bungsu', 'Muh. Saleh Hasanuddin', 'Harry Suharyadi', 'Hosea Hatmaji', 'Mandie Combe', 'Ozkan', 'Riefian Fajarsyah', 'Park Jung Hyun', 'Sadana Agung Sulistya', 'Brontojudo', 'Alblen Fillindo Fabe', 'Melody Septania', 'Eva Asmarani', 'Ricca Rahim', 'Sri Widayati', 'Tuti Muchtar', 'Aurora Yahya', 'Berliana Febryanti', 'Syafwin Bajumi', 'Rino Octora', 'Omar Khayyam', 'Kristin Anin', 'Alice Iskak', 'Mastur', 'Natascha Hopkins', 'Frisly Herlind', 'Ina Marika', 'Ayu Dewi', 'Rhonda Swan', 'Indi Barends', 'Jennifer Rachel Natasya', 'Yogi Aldi', 'Alvin Faiz', 'Ersya Ruswandono', 'Ketut Rina', 'Ayang', 'Nadia Giovanna', 'Randy Martin', 'Daus Mini', 'Abdul Roni', 'Sellen Fernandez', 'Bella Saphira', 'Esta Pramanita', 'Ferdinal Arnaz', 'Pei-Shan Chang', 'Isel Fricella', 'Cewek Arab', 'Ferly Halim', 'Benyamin Lagowan', 'Pamela Hallatu', \"Syu'bah Asa\", 'Danilla Riyadi', 'Randi Fadillah', 'Netty Herawati', 'Wina Hendrawan', 'Fifie Buntaran', 'Shidiq Hamidi', 'Meisya Siregar', 'Makbul Mubarak', 'Ava Lazar', 'Sutopo H.S.', 'Rio Bhaskara', 'Nina Karina', 'Fitri Tropica', 'Welda Hidayat', 'Nurlela M. Ipa', 'Coralie Gerald', 'Rain Chudori', 'Alexandra Kosasie', 'Lenny Charlote', 'Jonathan Frizzy', 'Eeng Saptahadi', 'Indri Satiya', 'Bryan McKenzie', 'Ghina Salsabila', 'Esri Komara', 'Gerald Abdullah', 'Alan Nuary', 'Habibi', 'Bram Manick', 'Ahmad Zaki'), dtype=tf.string, default_value=-1, num_oov_buckets=0),\n",
       " VocabularyListCategoricalColumn(key='genre', vocabulary_list=('History', 'Horror', 'Action', 'Drama', 'Comedy', 'Fantasy', 'No genre', 'Short', 'Romance', 'Biography', 'Documentary', 'Crime', 'Thriller', 'Adventure', 'War', 'Animation', 'Sci-Fi', 'Mystery', 'Sport', 'Family', 'Musical', 'Music', 'Reality-TV', 'Talk-Show', 'Game-Show', 'Western'), dtype=tf.string, default_value=-1, num_oov_buckets=0),\n",
       " VocabularyListCategoricalColumn(key='rating', vocabulary_list=('TV-MA', 'No rating', 'Not Rated', 'TV-G', '17+', '13+', 'TV-14', '21+', '18+', 'R13+', 'TV-PG', 'Unrated', 'R', 'Approved', 'SU', 'D', 'D17+', 'PG', 'TV-Y7', 'TV-Y', '16+', '15', 'T', 'D21+', '7+', 'PG-13'), dtype=tf.string, default_value=-1, num_oov_buckets=0),\n",
       " NumericColumn(key='runtime', shape=(1,), default_value=None, dtype=tf.int64, normalizer_fn=None)]"
      ]
     },
     "execution_count": 49,
     "metadata": {},
     "output_type": "execute_result"
    }
   ],
   "source": [
    "feature_columns = []\n",
    "\n",
    "for feature in CATEGORICAL_COLUMNS:\n",
    "    vocabulary = X_train[feature].unique()\n",
    "\n",
    "    feature_columns.append(tf.feature_column.categorical_column_with_vocabulary_list(feature, vocabulary))\n",
    "\n",
    "for feature in NUMERICAL_COLUMNS:\n",
    "    feature_columns.append(tf.feature_column.numeric_column(feature, dtype=tf.int64))\n",
    "\n",
    "feature_columns"
   ]
  },
  {
   "cell_type": "code",
   "execution_count": null,
   "metadata": {},
   "outputs": [],
   "source": [
    "    # # Create a StringLookup layer\n",
    "    # input_layer = Input(shape=(), dtype=tf.string)\n",
    "    # embedding_layer = StringLookup(vocabulary=vocabulary)(input_layer)\n",
    "    \n",
    "    # # Create a CategoryEncoding layer\n",
    "    # encoded_layer = CategoryEncoding(num_tokens=len(vocabulary))(embedding_layer)\n",
    "    \n",
    "    # feature_columns.append(encoded_layer)\n",
    "\n",
    "    # # Handle numerical features using Normalization\n",
    "    # input_layer = Input(shape=(1,), dtype=tf.int64)  # Change dtype to tf.int64\n",
    "    # normalization_layer = Normalization()(input_layer)\n",
    "\n",
    "    # # Append the normalization layer to the feature_columns list\n",
    "    # feature_columns.append(normalization_layer)"
   ]
  },
  {
   "cell_type": "markdown",
   "metadata": {},
   "source": [
    "## Make Input Functions"
   ]
  },
  {
   "cell_type": "code",
   "execution_count": 50,
   "metadata": {},
   "outputs": [],
   "source": [
    "def make_input_fn(data_df, label_df, num_epochs=10, shuffle=True, batch_size=32):\n",
    "    def input_function():  # inner function, this will be returned\n",
    "        ds = tf.data.Dataset.from_tensor_slices((dict(data_df), label_df))  # create tf.data.Dataset object with data and its label\n",
    "        \n",
    "        if shuffle:\n",
    "            ds = ds.shuffle(1000)  # randomize order of data\n",
    "        \n",
    "        ds = ds.batch(batch_size).repeat(num_epochs)  # split dataset into batches of 32 and repeat process for number of epochs\n",
    "        \n",
    "        return ds  # return a batch of the dataset\n",
    "    \n",
    "    return input_function  # return a function object for use"
   ]
  },
  {
   "cell_type": "code",
   "execution_count": 51,
   "metadata": {},
   "outputs": [],
   "source": [
    "train_input_fn = make_input_fn(X_train, y_train)\n",
    "test_input_fn = make_input_fn(X_test, y_test, num_epochs=1, shuffle=False)"
   ]
  },
  {
   "cell_type": "markdown",
   "metadata": {},
   "source": [
    "## Create Linear Estimator"
   ]
  },
  {
   "cell_type": "code",
   "execution_count": 52,
   "metadata": {},
   "outputs": [
    {
     "name": "stdout",
     "output_type": "stream",
     "text": [
      "INFO:tensorflow:Using default config.\n",
      "WARNING:tensorflow:Using temporary folder as model directory: C:\\Users\\LENOVO\\AppData\\Local\\Temp\\tmpbjnhcf_r\n",
      "INFO:tensorflow:Using config: {'_model_dir': 'C:\\\\Users\\\\LENOVO\\\\AppData\\\\Local\\\\Temp\\\\tmpbjnhcf_r', '_tf_random_seed': None, '_save_summary_steps': 100, '_save_checkpoints_steps': None, '_save_checkpoints_secs': 600, '_session_config': allow_soft_placement: true\n",
      "graph_options {\n",
      "  rewrite_options {\n",
      "    meta_optimizer_iterations: ONE\n",
      "  }\n",
      "}\n",
      ", '_keep_checkpoint_max': 5, '_keep_checkpoint_every_n_hours': 10000, '_log_step_count_steps': 100, '_train_distribute': None, '_device_fn': None, '_protocol': None, '_eval_distribute': None, '_experimental_distribute': None, '_experimental_max_worker_delay_secs': None, '_session_creation_timeout_secs': 7200, '_checkpoint_save_graph_def': True, '_service': None, '_cluster_spec': ClusterSpec({}), '_task_type': 'worker', '_task_id': 0, '_global_id_in_cluster': 0, '_master': '', '_evaluation_master': '', '_is_chief': True, '_num_ps_replicas': 0, '_num_worker_replicas': 1}\n"
     ]
    }
   ],
   "source": [
    "linear_est = tf.estimator.LinearRegressor(feature_columns=feature_columns)"
   ]
  },
  {
   "cell_type": "markdown",
   "metadata": {},
   "source": [
    "## Training the Model"
   ]
  },
  {
   "cell_type": "code",
   "execution_count": 53,
   "metadata": {},
   "outputs": [
    {
     "name": "stdout",
     "output_type": "stream",
     "text": [
      "INFO:tensorflow:Calling model_fn.\n",
      "INFO:tensorflow:Done calling model_fn.\n",
      "INFO:tensorflow:Create CheckpointSaverHook.\n",
      "INFO:tensorflow:Graph was finalized.\n",
      "INFO:tensorflow:Running local_init_op.\n",
      "INFO:tensorflow:Done running local_init_op.\n",
      "INFO:tensorflow:Calling checkpoint listeners before saving checkpoint 0...\n",
      "INFO:tensorflow:Saving checkpoints for 0 into C:\\Users\\LENOVO\\AppData\\Local\\Temp\\tmpbjnhcf_r\\model.ckpt.\n",
      "INFO:tensorflow:Calling checkpoint listeners after saving checkpoint 0...\n",
      "INFO:tensorflow:loss = 49.986877, step = 0\n",
      "INFO:tensorflow:global_step/sec: 408.766\n",
      "INFO:tensorflow:loss = 3.4435632, step = 100 (0.245 sec)\n",
      "INFO:tensorflow:global_step/sec: 1266.79\n",
      "INFO:tensorflow:loss = 1.7400652, step = 200 (0.079 sec)\n",
      "INFO:tensorflow:global_step/sec: 1298.76\n",
      "INFO:tensorflow:loss = 1.4202161, step = 300 (0.075 sec)\n",
      "INFO:tensorflow:global_step/sec: 1305.7\n",
      "INFO:tensorflow:loss = 1.1828481, step = 400 (0.079 sec)\n",
      "INFO:tensorflow:global_step/sec: 1292.73\n",
      "INFO:tensorflow:loss = 1.4219542, step = 500 (0.077 sec)\n",
      "INFO:tensorflow:global_step/sec: 1323.92\n",
      "INFO:tensorflow:loss = 0.8861215, step = 600 (0.076 sec)\n",
      "INFO:tensorflow:global_step/sec: 1287.94\n",
      "INFO:tensorflow:loss = 2.3417706, step = 700 (0.075 sec)\n",
      "INFO:tensorflow:global_step/sec: 1312.74\n",
      "INFO:tensorflow:loss = 1.0497768, step = 800 (0.078 sec)\n",
      "INFO:tensorflow:global_step/sec: 1296.88\n",
      "INFO:tensorflow:loss = 1.5368321, step = 900 (0.077 sec)\n",
      "INFO:tensorflow:global_step/sec: 1321.76\n",
      "INFO:tensorflow:loss = 1.0967877, step = 1000 (0.075 sec)\n",
      "INFO:tensorflow:global_step/sec: 1316.19\n",
      "INFO:tensorflow:loss = 0.8714092, step = 1100 (0.077 sec)\n",
      "INFO:tensorflow:global_step/sec: 1297.75\n",
      "INFO:tensorflow:loss = 0.7018845, step = 1200 (0.077 sec)\n",
      "INFO:tensorflow:global_step/sec: 1344.08\n",
      "INFO:tensorflow:loss = 1.177176, step = 1300 (0.074 sec)\n",
      "INFO:tensorflow:global_step/sec: 1313.02\n",
      "INFO:tensorflow:loss = 1.514139, step = 1400 (0.076 sec)\n",
      "INFO:tensorflow:global_step/sec: 1337.3\n",
      "INFO:tensorflow:loss = 0.52506477, step = 1500 (0.075 sec)\n",
      "INFO:tensorflow:global_step/sec: 1300.77\n",
      "INFO:tensorflow:loss = 0.5165564, step = 1600 (0.076 sec)\n",
      "INFO:tensorflow:global_step/sec: 1340.87\n",
      "INFO:tensorflow:loss = 1.0268557, step = 1700 (0.076 sec)\n",
      "INFO:tensorflow:global_step/sec: 1339.92\n",
      "INFO:tensorflow:loss = 0.5742545, step = 1800 (0.075 sec)\n",
      "INFO:tensorflow:global_step/sec: 1308.23\n",
      "INFO:tensorflow:loss = 1.1013446, step = 1900 (0.075 sec)\n",
      "WARNING:tensorflow:It seems that global step (tf.train.get_global_step) has not been increased. Current value (could be stable): 1963 vs previous value: 1963. You could increase the global step by passing tf.train.get_global_step() to Optimizer.apply_gradients or Optimizer.minimize.\n",
      "INFO:tensorflow:global_step/sec: 1309.06\n",
      "INFO:tensorflow:loss = 1.7516308, step = 2000 (0.076 sec)\n",
      "INFO:tensorflow:global_step/sec: 1288.27\n",
      "INFO:tensorflow:loss = 0.59324515, step = 2100 (0.079 sec)\n",
      "INFO:tensorflow:global_step/sec: 1304.01\n",
      "INFO:tensorflow:loss = 0.7241815, step = 2200 (0.077 sec)\n",
      "INFO:tensorflow:global_step/sec: 1310.65\n",
      "INFO:tensorflow:loss = 0.5791049, step = 2300 (0.076 sec)\n",
      "INFO:tensorflow:global_step/sec: 1336.8\n",
      "INFO:tensorflow:loss = 0.756929, step = 2400 (0.075 sec)\n",
      "INFO:tensorflow:global_step/sec: 1312.31\n",
      "INFO:tensorflow:loss = 0.6355109, step = 2500 (0.074 sec)\n",
      "INFO:tensorflow:global_step/sec: 1302.75\n",
      "INFO:tensorflow:loss = 0.60154533, step = 2600 (0.078 sec)\n",
      "INFO:tensorflow:global_step/sec: 1277.05\n",
      "INFO:tensorflow:loss = 1.0133306, step = 2700 (0.079 sec)\n",
      "INFO:tensorflow:global_step/sec: 1304.13\n",
      "INFO:tensorflow:loss = 0.8552429, step = 2800 (0.074 sec)\n",
      "INFO:tensorflow:global_step/sec: 1251.71\n",
      "INFO:tensorflow:loss = 0.8088453, step = 2900 (0.080 sec)\n",
      "INFO:tensorflow:global_step/sec: 1271.33\n",
      "INFO:tensorflow:loss = 1.9467839, step = 3000 (0.080 sec)\n",
      "INFO:tensorflow:global_step/sec: 1282.77\n",
      "INFO:tensorflow:loss = 0.69315726, step = 3100 (0.078 sec)\n",
      "INFO:tensorflow:global_step/sec: 1307.99\n",
      "INFO:tensorflow:loss = 0.71819186, step = 3200 (0.075 sec)\n",
      "INFO:tensorflow:global_step/sec: 1336.28\n",
      "INFO:tensorflow:loss = 0.69665825, step = 3300 (0.077 sec)\n",
      "INFO:tensorflow:global_step/sec: 1308.36\n",
      "INFO:tensorflow:loss = 1.3194195, step = 3400 (0.076 sec)\n",
      "INFO:tensorflow:global_step/sec: 1306.52\n",
      "INFO:tensorflow:loss = 0.7339332, step = 3500 (0.077 sec)\n",
      "INFO:tensorflow:global_step/sec: 1293.52\n",
      "INFO:tensorflow:loss = 0.41562715, step = 3600 (0.077 sec)\n",
      "INFO:tensorflow:global_step/sec: 1233.3\n",
      "INFO:tensorflow:loss = 0.9172976, step = 3700 (0.079 sec)\n",
      "INFO:tensorflow:global_step/sec: 1263.46\n",
      "INFO:tensorflow:loss = 0.5747508, step = 3800 (0.080 sec)\n",
      "INFO:tensorflow:global_step/sec: 1293.83\n",
      "INFO:tensorflow:loss = 1.8217853, step = 3900 (0.078 sec)\n",
      "INFO:tensorflow:global_step/sec: 1301.77\n",
      "INFO:tensorflow:loss = 0.41426173, step = 4000 (0.074 sec)\n",
      "INFO:tensorflow:Calling checkpoint listeners before saving checkpoint 4090...\n",
      "INFO:tensorflow:Saving checkpoints for 4090 into C:\\Users\\LENOVO\\AppData\\Local\\Temp\\tmpbjnhcf_r\\model.ckpt.\n",
      "INFO:tensorflow:Calling checkpoint listeners after saving checkpoint 4090...\n",
      "INFO:tensorflow:Loss for final step: 2.4022095.\n"
     ]
    },
    {
     "data": {
      "text/plain": [
       "<tensorflow_estimator.python.estimator.canned.linear.LinearRegressorV2 at 0x1cdbf36d910>"
      ]
     },
     "execution_count": 53,
     "metadata": {},
     "output_type": "execute_result"
    }
   ],
   "source": [
    "linear_est.train(train_input_fn)"
   ]
  },
  {
   "cell_type": "code",
   "execution_count": null,
   "metadata": {},
   "outputs": [],
   "source": [
    "# lin_reg = LinearRegression()\n",
    "\n",
    "# lin_reg.fit(X_train,y_train)"
   ]
  },
  {
   "cell_type": "markdown",
   "metadata": {},
   "source": [
    "## Evaluate the model"
   ]
  },
  {
   "cell_type": "code",
   "execution_count": 54,
   "metadata": {},
   "outputs": [
    {
     "name": "stdout",
     "output_type": "stream",
     "text": [
      "INFO:tensorflow:Calling model_fn.\n",
      "INFO:tensorflow:Done calling model_fn.\n",
      "INFO:tensorflow:Starting evaluation at 2023-08-28T17:45:01\n",
      "INFO:tensorflow:Graph was finalized.\n",
      "INFO:tensorflow:Restoring parameters from C:\\Users\\LENOVO\\AppData\\Local\\Temp\\tmpbjnhcf_r\\model.ckpt-4090\n",
      "INFO:tensorflow:Running local_init_op.\n",
      "INFO:tensorflow:Done running local_init_op.\n",
      "INFO:tensorflow:Inference Time : 0.71157s\n",
      "INFO:tensorflow:Finished evaluation at 2023-08-28-17:45:02\n",
      "INFO:tensorflow:Saving dict for global step 4090: average_loss = 1.4294089, global_step = 4090, label/mean = 6.5359344, loss = 1.4373635, prediction/mean = 6.070253\n",
      "INFO:tensorflow:Saving 'checkpoint_path' summary for global step 4090: C:\\Users\\LENOVO\\AppData\\Local\\Temp\\tmpbjnhcf_r\\model.ckpt-4090\n"
     ]
    }
   ],
   "source": [
    "result = linear_est.evaluate(test_input_fn)"
   ]
  },
  {
   "cell_type": "code",
   "execution_count": 55,
   "metadata": {},
   "outputs": [
    {
     "name": "stdout",
     "output_type": "stream",
     "text": [
      "1.4294089\n"
     ]
    }
   ],
   "source": [
    "print(result['average_loss'])"
   ]
  },
  {
   "cell_type": "markdown",
   "metadata": {},
   "source": [
    "## Visualize the Predictions by the Model"
   ]
  },
  {
   "cell_type": "code",
   "execution_count": 56,
   "metadata": {},
   "outputs": [],
   "source": [
    "import matplotlib.pyplot as plt"
   ]
  },
  {
   "cell_type": "code",
   "execution_count": 57,
   "metadata": {},
   "outputs": [
    {
     "name": "stdout",
     "output_type": "stream",
     "text": [
      "INFO:tensorflow:Calling model_fn.\n",
      "INFO:tensorflow:Done calling model_fn.\n",
      "INFO:tensorflow:Graph was finalized.\n",
      "INFO:tensorflow:Restoring parameters from C:\\Users\\LENOVO\\AppData\\Local\\Temp\\tmpbjnhcf_r\\model.ckpt-4090\n",
      "INFO:tensorflow:Running local_init_op.\n",
      "INFO:tensorflow:Done running local_init_op.\n"
     ]
    }
   ],
   "source": [
    "pred_dicts = list(linear_est.predict(test_input_fn))"
   ]
  },
  {
   "cell_type": "code",
   "execution_count": 58,
   "metadata": {},
   "outputs": [
    {
     "data": {
      "image/png": "[encoded data removed]",
      "text/plain": [
       "<Figure size 640x480 with 1 Axes>"
      ]
     },
     "metadata": {},
     "output_type": "display_data"
    }
   ],
   "source": [
    "predicted_scores = [pred['predictions'][0] for pred in pred_dicts]\n",
    "\n",
    "scores = pd.Series(predicted_scores)\n",
    "\n",
    "scores.plot(kind='hist', bins=20, title='Predicted IMDB Score')\n",
    "\n",
    "plt.show()"
   ]
  },
  {
   "cell_type": "code",
   "execution_count": 59,
   "metadata": {},
   "outputs": [],
   "source": [
    "# import numpy as np\n",
    "from sklearn.metrics import mean_squared_error, r2_score"
   ]
  },
  {
   "cell_type": "code",
   "execution_count": 60,
   "metadata": {},
   "outputs": [
    {
     "name": "stdout",
     "output_type": "stream",
     "text": [
      "Mean Squared Error (MSE): 1.4294086840877953\n"
     ]
    }
   ],
   "source": [
    "mse = mean_squared_error(y_test, scores)\n",
    "\n",
    "print(\"Mean Squared Error (MSE):\", mse)"
   ]
  },
  {
   "cell_type": "code",
   "execution_count": 61,
   "metadata": {},
   "outputs": [
    {
     "name": "stdout",
     "output_type": "stream",
     "text": [
      "R-squared score (Coefficient of Determination): 0.3886826844496476\n"
     ]
    }
   ],
   "source": [
    "r2 = r2_score(y_test, scores)\n",
    "\n",
    "print(\"R-squared score (Coefficient of Determination):\", r2)"
   ]
  }
 ],
 "metadata": {
  "kernelspec": {
   "display_name": "Python 3",
   "language": "python",
   "name": "python3"
  },
  "language_info": {
   "codemirror_mode": {
    "name": "ipython",
    "version": 3
   },
   "file_extension": ".py",
   "mimetype": "text/x-python",
   "name": "python",
   "nbconvert_exporter": "python",
   "pygments_lexer": "ipython3",
   "version": "3.11.3"
  },
  "orig_nbformat": 4
 },
 "nbformat": 4,
 "nbformat_minor": 2
}
